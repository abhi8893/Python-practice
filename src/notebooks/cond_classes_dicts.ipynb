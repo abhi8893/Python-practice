{
 "cells": [
  {
   "cell_type": "code",
   "execution_count": 1,
   "metadata": {},
   "outputs": [],
   "source": [
    "import random\n",
    "import pandas as pd\n",
    "from itertools import repeat\n",
    "from IPython.display import Image\n",
    "from collections import namedtuple\n",
    "import pandas as pd\n",
    "import os\n",
    "import inspect\n",
    "import types"
   ]
  },
  {
   "cell_type": "code",
   "execution_count": 2,
   "metadata": {
    "pixiedust": {
     "displayParams": {}
    }
   },
   "outputs": [
    {
     "data": {
      "text/plain": [
       "20"
      ]
     },
     "execution_count": 2,
     "metadata": {},
     "output_type": "execute_result"
    }
   ],
   "source": [
    "\n",
    "def add_num(x, y):\n",
    "    \n",
    "    for _ in range(y):\n",
    "        x += _\n",
    "    \n",
    "    return x\n",
    "\n",
    "add_num(10, 5)"
   ]
  },
  {
   "cell_type": "markdown",
   "metadata": {},
   "source": [
    "# Conditionals"
   ]
  },
  {
   "cell_type": "code",
   "execution_count": 3,
   "metadata": {},
   "outputs": [
    {
     "data": {
      "text/plain": [
       "'bmw'"
      ]
     },
     "execution_count": 3,
     "metadata": {},
     "output_type": "execute_result"
    }
   ],
   "source": [
    "car1 = 'bmw'\n",
    "car1"
   ]
  },
  {
   "cell_type": "code",
   "execution_count": 4,
   "metadata": {},
   "outputs": [
    {
     "name": "stdout",
     "output_type": "stream",
     "text": [
      "True\n",
      "True\n"
     ]
    }
   ],
   "source": [
    "print(car1 is 'bmw')\n",
    "print(car1 == 'bmw')"
   ]
  },
  {
   "cell_type": "code",
   "execution_count": 5,
   "metadata": {},
   "outputs": [
    {
     "data": {
      "text/plain": [
       "'bmw'"
      ]
     },
     "execution_count": 5,
     "metadata": {},
     "output_type": "execute_result"
    }
   ],
   "source": [
    "car2 = car1\n",
    "car2"
   ]
  },
  {
   "cell_type": "code",
   "execution_count": 6,
   "metadata": {},
   "outputs": [
    {
     "name": "stdout",
     "output_type": "stream",
     "text": [
      "True\n",
      "True\n"
     ]
    }
   ],
   "source": [
    "print(car2 is 'bmw')\n",
    "print(car2 is car1)"
   ]
  },
  {
   "cell_type": "code",
   "execution_count": 7,
   "metadata": {},
   "outputs": [
    {
     "data": {
      "text/plain": [
       "'bmw-new'"
      ]
     },
     "execution_count": 7,
     "metadata": {},
     "output_type": "execute_result"
    }
   ],
   "source": [
    "car2 += '-new'\n",
    "car2"
   ]
  },
  {
   "cell_type": "code",
   "execution_count": 8,
   "metadata": {},
   "outputs": [
    {
     "data": {
      "text/plain": [
       "'bmw'"
      ]
     },
     "execution_count": 8,
     "metadata": {},
     "output_type": "execute_result"
    }
   ],
   "source": [
    "car1"
   ]
  },
  {
   "cell_type": "code",
   "execution_count": 9,
   "metadata": {},
   "outputs": [
    {
     "data": {
      "text/plain": [
       "False"
      ]
     },
     "execution_count": 9,
     "metadata": {},
     "output_type": "execute_result"
    }
   ],
   "source": [
    "car = 'Mercedes'\n",
    "(car.startswith('M')) and (car.endswith('e'))"
   ]
  },
  {
   "cell_type": "code",
   "execution_count": 10,
   "metadata": {},
   "outputs": [
    {
     "data": {
      "text/plain": [
       "True"
      ]
     },
     "execution_count": 10,
     "metadata": {},
     "output_type": "execute_result"
    }
   ],
   "source": [
    "(car.startswith('M')) or (car.endswith('e'))"
   ]
  },
  {
   "cell_type": "code",
   "execution_count": 11,
   "metadata": {},
   "outputs": [
    {
     "data": {
      "text/plain": [
       "True"
      ]
     },
     "execution_count": 11,
     "metadata": {},
     "output_type": "execute_result"
    }
   ],
   "source": [
    "cars = ['bmw', 'Mercedes', 'audi']\n",
    "car in cars"
   ]
  },
  {
   "cell_type": "markdown",
   "metadata": {},
   "source": [
    "## Some info related to dict, namedtuples, item assignment and stuff"
   ]
  },
  {
   "cell_type": "code",
   "execution_count": 12,
   "metadata": {},
   "outputs": [
    {
     "name": "stdout",
     "output_type": "stream",
     "text": [
      "c a b\n"
     ]
    }
   ],
   "source": [
    "my_dict = {'c': 1, 'a': 2, 'b': 3}\n",
    "\n",
    "print(*my_dict)"
   ]
  },
  {
   "cell_type": "code",
   "execution_count": 13,
   "metadata": {},
   "outputs": [],
   "source": [
    "def my_func(a, b, c):\n",
    "    print(a, b, c)\n"
   ]
  },
  {
   "cell_type": "code",
   "execution_count": 14,
   "metadata": {},
   "outputs": [
    {
     "name": "stdout",
     "output_type": "stream",
     "text": [
      "c a b\n"
     ]
    }
   ],
   "source": [
    "my_func(*my_dict)"
   ]
  },
  {
   "cell_type": "markdown",
   "metadata": {},
   "source": [
    "### Namedtuples are nice to know (dot operators attributes)"
   ]
  },
  {
   "cell_type": "code",
   "execution_count": 15,
   "metadata": {},
   "outputs": [
    {
     "name": "stdout",
     "output_type": "stream",
     "text": [
      "Black has values of red=0, green=0, blue=0\n"
     ]
    }
   ],
   "source": [
    "Color = namedtuple('Color', ['red', 'green', 'blue'])\n",
    "Black = Color(0, 0, 0)\n",
    "White = Color(255, 255, 255)\n",
    "\n",
    "print('Black has values of red={0}, green={1}, blue={2}'.format(Black.red, Black.green, Black.blue))"
   ]
  },
  {
   "cell_type": "markdown",
   "metadata": {},
   "source": [
    "#### Won't work same as dictionaries!"
   ]
  },
  {
   "cell_type": "code",
   "execution_count": 16,
   "metadata": {},
   "outputs": [
    {
     "ename": "TypeError",
     "evalue": "tuple indices must be integers or slices, not str",
     "output_type": "error",
     "traceback": [
      "\u001b[0;31m---------------------------------------------------------------------------\u001b[0m",
      "\u001b[0;31mTypeError\u001b[0m                                 Traceback (most recent call last)",
      "\u001b[0;32m<ipython-input-16-df3dfe1c50b6>\u001b[0m in \u001b[0;36m<module>\u001b[0;34m()\u001b[0m\n\u001b[0;32m----> 1\u001b[0;31m \u001b[0mBlack\u001b[0m\u001b[0;34m[\u001b[0m\u001b[0;34m'red'\u001b[0m\u001b[0;34m]\u001b[0m\u001b[0;34m\u001b[0m\u001b[0m\n\u001b[0m",
      "\u001b[0;31mTypeError\u001b[0m: tuple indices must be integers or slices, not str"
     ]
    }
   ],
   "source": [
    "Black['red']"
   ]
  },
  {
   "cell_type": "markdown",
   "metadata": {},
   "source": [
    "## namedtuple is not a class but a function!!"
   ]
  },
  {
   "cell_type": "code",
   "execution_count": 17,
   "metadata": {},
   "outputs": [
    {
     "data": {
      "text/plain": [
       "function"
      ]
     },
     "execution_count": 17,
     "metadata": {},
     "output_type": "execute_result"
    }
   ],
   "source": [
    "type(namedtuple)"
   ]
  },
  {
   "cell_type": "code",
   "execution_count": 18,
   "metadata": {},
   "outputs": [
    {
     "data": {
      "text/plain": [
       "type"
      ]
     },
     "execution_count": 18,
     "metadata": {},
     "output_type": "execute_result"
    }
   ],
   "source": [
    "type(Color)"
   ]
  },
  {
   "cell_type": "markdown",
   "metadata": {},
   "source": [
    "### Hence this won't work"
   ]
  },
  {
   "cell_type": "code",
   "execution_count": 19,
   "metadata": {},
   "outputs": [
    {
     "ename": "TypeError",
     "evalue": "function() argument 1 must be code, not str",
     "output_type": "error",
     "traceback": [
      "\u001b[0;31m---------------------------------------------------------------------------\u001b[0m",
      "\u001b[0;31mTypeError\u001b[0m                                 Traceback (most recent call last)",
      "\u001b[0;32m<ipython-input-19-0f8a4ebddd16>\u001b[0m in \u001b[0;36m<module>\u001b[0;34m()\u001b[0m\n\u001b[0;32m----> 1\u001b[0;31m \u001b[0;32mclass\u001b[0m \u001b[0mImprovedTuple\u001b[0m\u001b[0;34m(\u001b[0m\u001b[0mnamedtuple\u001b[0m\u001b[0;34m)\u001b[0m\u001b[0;34m:\u001b[0m\u001b[0;34m\u001b[0m\u001b[0m\n\u001b[0m\u001b[1;32m      2\u001b[0m     \u001b[0;32mpass\u001b[0m\u001b[0;34m\u001b[0m\u001b[0m\n",
      "\u001b[0;31mTypeError\u001b[0m: function() argument 1 must be code, not str"
     ]
    }
   ],
   "source": [
    "class ImprovedTuple(namedtuple):\n",
    "    pass"
   ]
  },
  {
   "cell_type": "code",
   "execution_count": 20,
   "metadata": {},
   "outputs": [],
   "source": [
    "Color = namedtuple('Color', ['red', 'green', 'blue'])\n",
    "class NamedColor(Color):\n",
    "    \n",
    "    def __new__(self, red, green , blue, name):\n",
    "        self = super(NamedColor, self).__new__(self, red, green, blue)\n",
    "        self.name = name\n",
    "        return self\n",
    "    "
   ]
  },
  {
   "cell_type": "code",
   "execution_count": 21,
   "metadata": {},
   "outputs": [
    {
     "ename": "AttributeError",
     "evalue": "'Color' object has no attribute 'name'",
     "output_type": "error",
     "traceback": [
      "\u001b[0;31m---------------------------------------------------------------------------\u001b[0m",
      "\u001b[0;31mAttributeError\u001b[0m                            Traceback (most recent call last)",
      "\u001b[0;32m<ipython-input-21-b2c3cae7520a>\u001b[0m in \u001b[0;36m<module>\u001b[0;34m()\u001b[0m\n\u001b[1;32m      1\u001b[0m \u001b[0mBlack_old\u001b[0m \u001b[0;34m=\u001b[0m \u001b[0mColor\u001b[0m\u001b[0;34m(\u001b[0m\u001b[0;36m255\u001b[0m\u001b[0;34m,\u001b[0m \u001b[0;36m255\u001b[0m\u001b[0;34m,\u001b[0m \u001b[0;36m255\u001b[0m\u001b[0;34m)\u001b[0m\u001b[0;34m\u001b[0m\u001b[0m\n\u001b[0;32m----> 2\u001b[0;31m \u001b[0mBlack_old\u001b[0m\u001b[0;34m.\u001b[0m\u001b[0mname\u001b[0m\u001b[0;34m\u001b[0m\u001b[0m\n\u001b[0m",
      "\u001b[0;31mAttributeError\u001b[0m: 'Color' object has no attribute 'name'"
     ]
    }
   ],
   "source": [
    "Black_old = Color(255, 255, 255)\n",
    "Black_old.name"
   ]
  },
  {
   "cell_type": "code",
   "execution_count": 22,
   "metadata": {},
   "outputs": [
    {
     "data": {
      "text/plain": [
       "'Black'"
      ]
     },
     "execution_count": 22,
     "metadata": {},
     "output_type": "execute_result"
    }
   ],
   "source": [
    "Black_new = NamedColor(255, 255, 255, 'Black')\n",
    "Black_new.name"
   ]
  },
  {
   "cell_type": "markdown",
   "metadata": {},
   "source": [
    "## Look into this function!! \n",
    "### \\_\\_new__ is implicitly called before \\_\\_init_\\_  so have to override that "
   ]
  },
  {
   "cell_type": "code",
   "execution_count": 23,
   "metadata": {
    "pixiedust": {
     "displayParams": {}
    }
   },
   "outputs": [],
   "source": [
    "def gen_namedtupleobject(obj_name: str, type_name:str, dct: dict):\n",
    "    \n",
    "    obj = namedtuple(type_name, dct.keys())\n",
    "    class namedtupleobject(obj):\n",
    "        \n",
    "        def __new__(self, dct, obj_name):\n",
    "            self = super().__new__(self, **dct)\n",
    "            self.name = obj_name\n",
    "            return self\n",
    "    \n",
    "    return namedtupleobject(dct, obj_name)\n"
   ]
  },
  {
   "cell_type": "code",
   "execution_count": 24,
   "metadata": {},
   "outputs": [
    {
     "data": {
      "text/plain": [
       "'Black'"
      ]
     },
     "execution_count": 24,
     "metadata": {},
     "output_type": "execute_result"
    }
   ],
   "source": [
    "Black  = gen_namedtupleobject(obj_name='Black', type_name='Color', dct={'red':0, 'green': 0, 'blue': 0})\n",
    "Black.name"
   ]
  },
  {
   "cell_type": "code",
   "execution_count": 25,
   "metadata": {},
   "outputs": [],
   "source": [
    "full_dict = {'obj_name': 'Black', \n",
    "             'type_name': 'Color',\n",
    "             'dct': {'red':0, 'green': 0, 'blue': 0}}"
   ]
  },
  {
   "cell_type": "code",
   "execution_count": 26,
   "metadata": {},
   "outputs": [],
   "source": [
    "Black = gen_namedtupleobject(**full_dict)"
   ]
  },
  {
   "cell_type": "code",
   "execution_count": 27,
   "metadata": {},
   "outputs": [
    {
     "data": {
      "text/plain": [
       "'Black'"
      ]
     },
     "execution_count": 27,
     "metadata": {},
     "output_type": "execute_result"
    }
   ],
   "source": [
    "Black.name"
   ]
  },
  {
   "cell_type": "markdown",
   "metadata": {},
   "source": [
    "## An important information about variable names"
   ]
  },
  {
   "cell_type": "markdown",
   "metadata": {},
   "source": [
    "The only objects in Python that have canonical names are modules, functions, and classes, and of course there is no guarantee that this canonical name has any meaning in any namespace after the function or class has been defined or the module imported. These names can also be modified after the objects are created so they may not always be particularly trustworthy.\n",
    "\n",
    "What you want to do is not possible without recursively walking the tree of named objects; a name is a one-way reference to an object. A common or garden-variety Python object contains no references to its names. Imagine if every integer, every dict, every list, every Boolean needed to maintain a list of strings that represented names that referred to it! It would be an implementation nightmare, with little benefit to the programmer.\n",
    "\n",
    "[Stackoverflow: getting the name of python variables](https://stackoverflow.com/questions/18425225/getting-the-name-of-a-variable-as-a-string)\n"
   ]
  },
  {
   "cell_type": "code",
   "execution_count": 28,
   "metadata": {},
   "outputs": [
    {
     "name": "stdout",
     "output_type": "stream",
     "text": [
      "['y', 'y2']\n"
     ]
    }
   ],
   "source": [
    "import inspect\n",
    "\n",
    "x,y,z = 1,2,3\n",
    "y2 = 2\n",
    "def retrieve_name(var):\n",
    "    callers_local_vars = list(inspect.currentframe().f_back.f_locals.items())\n",
    "    return [var_name for var_name, var_val in callers_local_vars if var_val is var]\n",
    "\n",
    "print(retrieve_name(y))"
   ]
  },
  {
   "cell_type": "code",
   "execution_count": 29,
   "metadata": {},
   "outputs": [
    {
     "ename": "SyntaxError",
     "evalue": "invalid syntax (<ipython-input-29-2d67b9066d9e>, line 3)",
     "output_type": "error",
     "traceback": [
      "\u001b[0;36m  File \u001b[0;32m\"<ipython-input-29-2d67b9066d9e>\"\u001b[0;36m, line \u001b[0;32m3\u001b[0m\n\u001b[0;31m    def\u001b[0m\n\u001b[0m        ^\u001b[0m\n\u001b[0;31mSyntaxError\u001b[0m\u001b[0;31m:\u001b[0m invalid syntax\n"
     ]
    }
   ],
   "source": [
    "class ImprovedTuple(namedtuple):\n",
    "    \n",
    "    def "
   ]
  },
  {
   "cell_type": "code",
   "execution_count": 30,
   "metadata": {},
   "outputs": [
    {
     "ename": "NameError",
     "evalue": "name 'Color1' is not defined",
     "output_type": "error",
     "traceback": [
      "\u001b[0;31m---------------------------------------------------------------------------\u001b[0m",
      "\u001b[0;31mNameError\u001b[0m                                 Traceback (most recent call last)",
      "\u001b[0;32m<ipython-input-30-052d89be3765>\u001b[0m in \u001b[0;36m<module>\u001b[0;34m()\u001b[0m\n\u001b[0;32m----> 1\u001b[0;31m \u001b[0mColor1\u001b[0m\u001b[0;34m\u001b[0m\u001b[0m\n\u001b[0m",
      "\u001b[0;31mNameError\u001b[0m: name 'Color1' is not defined"
     ]
    }
   ],
   "source": [
    "Color1"
   ]
  },
  {
   "cell_type": "code",
   "execution_count": 31,
   "metadata": {},
   "outputs": [
    {
     "data": {
      "text/html": [
       "<div>\n",
       "<style scoped>\n",
       "    .dataframe tbody tr th:only-of-type {\n",
       "        vertical-align: middle;\n",
       "    }\n",
       "\n",
       "    .dataframe tbody tr th {\n",
       "        vertical-align: top;\n",
       "    }\n",
       "\n",
       "    .dataframe thead th {\n",
       "        text-align: right;\n",
       "    }\n",
       "</style>\n",
       "<table border=\"1\" class=\"dataframe\">\n",
       "  <thead>\n",
       "    <tr style=\"text-align: right;\">\n",
       "      <th></th>\n",
       "      <th>red</th>\n",
       "      <th>green</th>\n",
       "      <th>blue</th>\n",
       "    </tr>\n",
       "  </thead>\n",
       "  <tbody>\n",
       "    <tr>\n",
       "      <th>0</th>\n",
       "      <td>0</td>\n",
       "      <td>0</td>\n",
       "      <td>0</td>\n",
       "    </tr>\n",
       "  </tbody>\n",
       "</table>\n",
       "</div>"
      ],
      "text/plain": [
       "   red  green  blue\n",
       "0    0      0     0"
      ]
     },
     "execution_count": 31,
     "metadata": {},
     "output_type": "execute_result"
    }
   ],
   "source": [
    "pd.DataFrame.from_records([Black], columns=Black._fields)"
   ]
  },
  {
   "cell_type": "markdown",
   "metadata": {},
   "source": [
    "#### These are passed as keyword arguments, by assigning the same keyword names as in function in the dict"
   ]
  },
  {
   "cell_type": "code",
   "execution_count": 32,
   "metadata": {},
   "outputs": [
    {
     "name": "stdout",
     "output_type": "stream",
     "text": [
      "2 3 1\n"
     ]
    }
   ],
   "source": [
    "my_func(**my_dict) "
   ]
  },
  {
   "cell_type": "code",
   "execution_count": 33,
   "metadata": {},
   "outputs": [
    {
     "name": "stdout",
     "output_type": "stream",
     "text": [
      "1\n",
      "[2, 3]\n",
      "4\n"
     ]
    }
   ],
   "source": [
    "var1, *var2, var3 = 1, 2, 3, 4\n",
    "print(var1, var2, var3, sep='\\n')\n"
   ]
  },
  {
   "cell_type": "markdown",
   "metadata": {},
   "source": [
    "# The alien game"
   ]
  },
  {
   "cell_type": "markdown",
   "metadata": {},
   "source": [
    "## Rules\n",
    "    1. Players have attributes of health\n",
    "    2. Color depends on their health ['green', 'yellow', 'red']\n",
    "    3. All players shoot at the same time\n",
    "    4. They can shoot with various levels of power : ['high', 'medium', 'low']\n",
    "    5. Dead players are eliminated"
   ]
  },
  {
   "cell_type": "code",
   "execution_count": 34,
   "metadata": {},
   "outputs": [],
   "source": [
    "class Player:\n",
    " \n",
    "    def __init__(self, id_no, health=100, color='green'):\n",
    "        self.id_no = id_no\n",
    "        self.health = health\n",
    "        self.color = color\n",
    "        self.isdead = False\n",
    "        self.kills = 0\n",
    "    \n",
    "    \n",
    "    def assign(self, health):\n",
    "        \n",
    "        self.health = health\n",
    "        \n",
    "        if self.health <= 0:\n",
    "            self.health = 0\n",
    "            self.isdead = True\n",
    "            self.color = 'black'\n",
    "            \n",
    "        elif 0 < self.health <= 30:\n",
    "            self.color = 'red'\n",
    "        elif 30 < self.health <= 70:\n",
    "            self.color = 'yellow'\n",
    "        elif 70 < self.health <= 100:\n",
    "            self.color = 'green'\n",
    "    \n",
    "    \n",
    "    def shoot(self, other, power):\n",
    "        \n",
    "        if other.isdead:\n",
    "            return None\n",
    "        \n",
    "        if power is 'high':\n",
    "            damage = 40\n",
    "        elif power is 'medium':\n",
    "            damage = 20\n",
    "        elif power is 'low':\n",
    "            damage = 10\n",
    "        \n",
    "        other.assign(other.health - damage)\n",
    "        if other.health == 0:\n",
    "            self.kills += 1\n",
    "    \n",
    "        \n",
    "    "
   ]
  },
  {
   "cell_type": "code",
   "execution_count": 35,
   "metadata": {},
   "outputs": [],
   "source": [
    "def shoot(p1, p2, power):\n",
    "    p1.shoot(p2, power)\n",
    "    "
   ]
  },
  {
   "cell_type": "code",
   "execution_count": 36,
   "metadata": {},
   "outputs": [],
   "source": [
    "def exclude_player(player, players: list):\n",
    "    \n",
    "    players = players.copy()\n",
    "    players.remove(player)\n",
    "    return players"
   ]
  },
  {
   "cell_type": "code",
   "execution_count": 37,
   "metadata": {},
   "outputs": [],
   "source": [
    "players = []\n",
    "for id_no in range(10):\n",
    "    players.append(Player(id_no))\n",
    "    "
   ]
  },
  {
   "cell_type": "code",
   "execution_count": 38,
   "metadata": {},
   "outputs": [],
   "source": [
    "def Game(players):\n",
    "    players = players.copy()\n",
    "    \n",
    "    ## For some reason this brings randomness to the game\n",
    "    random.shuffle(players)\n",
    "    \n",
    "    while len(players) > 1:\n",
    "        ## Simulatenous shooting (Probably not?)\n",
    "        [player.shoot(random.choice(exclude_player(player, players)), \n",
    "                  random.choice(['high', 'medium', 'low'])) \n",
    "                  for player in players]\n",
    "\n",
    "\n",
    "        ## Pop players with health 0\n",
    "        for player in players:\n",
    "            if player.isdead:\n",
    "                players.remove(player)\n",
    "                \n",
    "        \n",
    "        stats_list = [(player.id_no, player.health, player.color, player.kills)\n",
    "                      for player in players]\n",
    "        \n",
    "    return stats_list\n",
    "    \n",
    "    winner = players[0]\n",
    "    message = f'Winner is player {winner.id_no}'\\\n",
    "               f'\\nKills: {winner.kills}'\n",
    "    \n",
    "    return message"
   ]
  },
  {
   "cell_type": "code",
   "execution_count": 39,
   "metadata": {},
   "outputs": [],
   "source": [
    "players = []\n",
    "for id_no in range(10):\n",
    "    players.append(Player(id_no))\n",
    "    "
   ]
  },
  {
   "cell_type": "code",
   "execution_count": 40,
   "metadata": {},
   "outputs": [
    {
     "data": {
      "text/html": [
       "<div>\n",
       "<style scoped>\n",
       "    .dataframe tbody tr th:only-of-type {\n",
       "        vertical-align: middle;\n",
       "    }\n",
       "\n",
       "    .dataframe tbody tr th {\n",
       "        vertical-align: top;\n",
       "    }\n",
       "\n",
       "    .dataframe thead th {\n",
       "        text-align: right;\n",
       "    }\n",
       "</style>\n",
       "<table border=\"1\" class=\"dataframe\">\n",
       "  <thead>\n",
       "    <tr style=\"text-align: right;\">\n",
       "      <th></th>\n",
       "      <th>health</th>\n",
       "      <th>color</th>\n",
       "      <th>kills</th>\n",
       "    </tr>\n",
       "    <tr>\n",
       "      <th>id_no</th>\n",
       "      <th></th>\n",
       "      <th></th>\n",
       "      <th></th>\n",
       "    </tr>\n",
       "  </thead>\n",
       "  <tbody>\n",
       "    <tr>\n",
       "      <th>0</th>\n",
       "      <td>20</td>\n",
       "      <td>red</td>\n",
       "      <td>2</td>\n",
       "    </tr>\n",
       "  </tbody>\n",
       "</table>\n",
       "</div>"
      ],
      "text/plain": [
       "       health color  kills\n",
       "id_no                     \n",
       "0          20   red      2"
      ]
     },
     "execution_count": 40,
     "metadata": {},
     "output_type": "execute_result"
    }
   ],
   "source": [
    "df = pd.DataFrame(Game(players), columns=['id_no', 'health', 'color', 'kills'])\n",
    "df.set_index('id_no', inplace=True)\n",
    "df.sort_values('health', ascending=False)"
   ]
  },
  {
   "cell_type": "markdown",
   "metadata": {},
   "source": [
    "## User and admin class\n"
   ]
  },
  {
   "cell_type": "code",
   "execution_count": 45,
   "metadata": {},
   "outputs": [],
   "source": [
    "from time import time\n",
    "from datetime import datetime as dt\n",
    "import types"
   ]
  },
  {
   "cell_type": "code",
   "execution_count": 46,
   "metadata": {},
   "outputs": [],
   "source": [
    "class SocialNetwork:\n",
    "    users = 0"
   ]
  },
  {
   "cell_type": "code",
   "execution_count": 47,
   "metadata": {},
   "outputs": [
    {
     "data": {
      "text/plain": [
       "0"
      ]
     },
     "execution_count": 47,
     "metadata": {},
     "output_type": "execute_result"
    }
   ],
   "source": [
    "website = SocialNetwork()\n",
    "website.users"
   ]
  },
  {
   "cell_type": "code",
   "execution_count": 70,
   "metadata": {},
   "outputs": [],
   "source": [
    "class User(object):\n",
    "    \n",
    "\n",
    "    def __init__(self, first, last, age, sex, website):\n",
    "        self.first = first\n",
    "        self.last = last\n",
    "        self.fullname = f'{first} {last}'\n",
    "        self.age = age\n",
    "        self.sex = sex\n",
    "        self.hasAccount = False\n",
    "        self.loggedin = False\n",
    "        self.status = True\n",
    "        self.isBanned = 'no'\n",
    "        self.website = website\n",
    "        \n",
    "        self.createAccount()\n",
    "      \n",
    "    \n",
    "    def __getattribute__(self, attr):\n",
    "        method = object.__getattribute__(self, attr)\n",
    "        if method in locals():\n",
    "            raise Exception(f'The method {method.__name__} is not implemented')\n",
    "        \n",
    "        if (type(method) == types.MethodType \n",
    "            and \n",
    "            method.__name__ != '__null__'\n",
    "            and\n",
    "            self.isBanned == 'yes'):\n",
    "            \n",
    "            print('You have been banned by the admin!')\n",
    "            return self.__null__\n",
    "        \n",
    "        return method\n",
    "        \n",
    "    \n",
    "    def __null__(self):\n",
    "        pass\n",
    "            \n",
    "            \n",
    "\n",
    "    def createAccount(self):\n",
    "        if not self.hasAccount:\n",
    "            if 'y' == input('Would you like to create an account? (y/n)\\t'):\n",
    "                self.username = input('Enter username\\t')\n",
    "                self.password = input('Enter password\\t')\n",
    "                self.hasAccount = True\n",
    "                self.tries = 0\n",
    "                self.website.users += 1\n",
    "\n",
    "        else:\n",
    "            print('You already have an account.\\n')\n",
    "\n",
    "            if (self.loggedin \n",
    "                and \n",
    "                'y' == input('You are logged in! Would you like to logout?(y/n)\\t')):\n",
    "\n",
    "                self.loggedin = False\n",
    "\n",
    "            elif 'y' == input('Would you like to log in?(y/n)'):\n",
    "                self.login()\n",
    "    \n",
    "    def login(self):\n",
    "        try:\n",
    "            self.timeElapsed = (dt.fromtimestamp(time()) - self.lastFailedAttemptOn).seconds\n",
    "        except AttributeError:\n",
    "            self.timeElapsed = 60\n",
    "        \n",
    "        if (self.tries < 3 or self.timeElapsed >= 60):\n",
    "            if not self.loggedin:\n",
    "                if (self.username == input('Enter username\\t')\n",
    "                    and \n",
    "                    self.password == input('Enter password\\t')):\n",
    "\n",
    "                    print(f'Welcome! You are now logged in {self.fullname}')\n",
    "                    self.tries = 0\n",
    "                    self.loggedin = True\n",
    "                    self.lastLoginOn = dt.fromtimestamp(time())\n",
    "                    self._timeElapsed = 60\n",
    "\n",
    "                else:\n",
    "                    self.tries += 1\n",
    "                    self.lastFailedAttemptOn = dt.fromtimestamp(time())\n",
    "\n",
    "                    if ('y' == input('Wrong username or password'\\\n",
    "                                      +'\\nWould you like to try again?(y/n)\\t')):\n",
    "\n",
    "                            self.login()\n",
    "            elif 'y' == input('You are already logged in!\\n'\\\n",
    "                              +'Would you like to log out?(y/n)'):\n",
    "                self.loggedin = False\n",
    "                \n",
    "        else:\n",
    "            print('Sorry! Maximum number of tries exceeded!',\n",
    "                 f'Please wait for {60 - self.timeElapsed} seconds before retrying', sep='\\n')\n",
    "\n",
    "\n",
    "                \n",
    "    def getStatus(self):\n",
    "        return self.loggedin\n",
    "    \n",
    "\n",
    "class Admin(User):\n",
    "    \n",
    "    def __init__(self, first, last, age, sex, website):\n",
    "        super().__init__(first, last, age, sex, website)\n",
    "        del self.isBanned\n",
    "    \n",
    "    def banAccount(self, user):\n",
    "        user.isBanned = 'yes'\n",
    "        \n",
    "    def __getattribute__(self, attr):\n",
    "        method = object.__getattribute__(self, attr)\n",
    "        return method\n",
    "        \n",
    "    "
   ]
  },
  {
   "cell_type": "code",
   "execution_count": 68,
   "metadata": {},
   "outputs": [
    {
     "name": "stdout",
     "output_type": "stream",
     "text": [
      "Would you like to create an account? (y/n)\ty\n",
      "Enter username\taa\n",
      "Enter password\taa\n"
     ]
    }
   ],
   "source": [
    "usr_1 = User('f', 'l', 30, 'M', website)"
   ]
  },
  {
   "cell_type": "code",
   "execution_count": 71,
   "metadata": {},
   "outputs": [
    {
     "name": "stdout",
     "output_type": "stream",
     "text": [
      "Would you like to create an account? (y/n)\ty\n",
      "Enter username\ta\n",
      "Enter password\ta\n"
     ]
    }
   ],
   "source": [
    "adm_1 = Admin('f', 'l', 40, 'M', website)\n"
   ]
  },
  {
   "cell_type": "code",
   "execution_count": 72,
   "metadata": {},
   "outputs": [],
   "source": [
    "adm_1.banAccount(usr_1)"
   ]
  },
  {
   "cell_type": "code",
   "execution_count": 73,
   "metadata": {},
   "outputs": [
    {
     "name": "stdout",
     "output_type": "stream",
     "text": [
      "You have been banned by the admin!\n"
     ]
    }
   ],
   "source": [
    "usr_1.login()"
   ]
  },
  {
   "cell_type": "markdown",
   "metadata": {},
   "source": [
    "## Sum of all numbers greater than 5 in a list using filter"
   ]
  },
  {
   "cell_type": "code",
   "execution_count": 60,
   "metadata": {},
   "outputs": [],
   "source": [
    "lst = [random.choice(range(10)) for _ in range(100)]"
   ]
  },
  {
   "cell_type": "code",
   "execution_count": 61,
   "metadata": {},
   "outputs": [
    {
     "name": "stdout",
     "output_type": "stream",
     "text": [
      "[1, 8, 7, 8, 2, 9, 1, 5, 0, 5, 0, 4, 5, 2, 9, 4, 2, 9, 9, 7, 7, 3, 8, 0, 1, 0, 5, 5, 4, 6, 4, 0, 8, 6, 1, 7, 1, 7, 4, 4, 9, 6, 0, 5, 1, 4, 9, 9, 6, 0, 2, 9, 6, 4, 9, 4, 4, 9, 1, 2, 2, 1, 0, 7, 6, 5, 2, 6, 1, 3, 2, 3, 1, 7, 3, 3, 1, 5, 4, 5, 6, 6, 1, 4, 7, 2, 4, 7, 6, 1, 1, 4, 1, 6, 7, 8, 9, 0, 7, 3]\n"
     ]
    }
   ],
   "source": [
    "print(lst)"
   ]
  },
  {
   "cell_type": "code",
   "execution_count": 62,
   "metadata": {},
   "outputs": [
    {
     "data": {
      "text/plain": [
       "282"
      ]
     },
     "execution_count": 62,
     "metadata": {},
     "output_type": "execute_result"
    }
   ],
   "source": [
    "sum(list(filter(lambda x: x > 5, lst)))"
   ]
  },
  {
   "cell_type": "code",
   "execution_count": 63,
   "metadata": {},
   "outputs": [
    {
     "name": "stdout",
     "output_type": "stream",
     "text": [
      "282\n"
     ]
    }
   ],
   "source": [
    "gt5_sum = 0\n",
    "\n",
    "for num in lst:\n",
    "    if num > 5:\n",
    "        gt5_sum += num\n",
    "    \n",
    "print(gt5_sum)"
   ]
  },
  {
   "cell_type": "code",
   "execution_count": 71,
   "metadata": {},
   "outputs": [
    {
     "data": {
      "text/plain": [
       "282"
      ]
     },
     "execution_count": 71,
     "metadata": {},
     "output_type": "execute_result"
    }
   ],
   "source": [
    "from functools import reduce\n",
    "reduce((lambda x, y: x+y), filter(lambda x: x>5, lst))"
   ]
  },
  {
   "cell_type": "markdown",
   "metadata": {},
   "source": [
    "## Deleting an element in a dictionary"
   ]
  },
  {
   "cell_type": "code",
   "execution_count": 4,
   "metadata": {},
   "outputs": [],
   "source": [
    "my_str = 'string'\n",
    "my_dict = {'a': my_str}"
   ]
  },
  {
   "cell_type": "code",
   "execution_count": 5,
   "metadata": {},
   "outputs": [],
   "source": [
    "del my_dict['a']"
   ]
  },
  {
   "cell_type": "code",
   "execution_count": 6,
   "metadata": {},
   "outputs": [
    {
     "data": {
      "text/plain": [
       "{}"
      ]
     },
     "execution_count": 6,
     "metadata": {},
     "output_type": "execute_result"
    }
   ],
   "source": [
    "my_dict"
   ]
  },
  {
   "cell_type": "code",
   "execution_count": 7,
   "metadata": {},
   "outputs": [
    {
     "data": {
      "text/plain": [
       "'string'"
      ]
     },
     "execution_count": 7,
     "metadata": {},
     "output_type": "execute_result"
    }
   ],
   "source": [
    "my_str"
   ]
  },
  {
   "cell_type": "markdown",
   "metadata": {},
   "source": [
    "## Mapping a function on a dictionary"
   ]
  },
  {
   "cell_type": "code",
   "execution_count": 14,
   "metadata": {},
   "outputs": [
    {
     "data": {
      "text/plain": [
       "{'key1': 1, 'key2': 2, 'key3': 3}"
      ]
     },
     "execution_count": 14,
     "metadata": {},
     "output_type": "execute_result"
    }
   ],
   "source": [
    "keys = ['key1', 'key2', 'key3']\n",
    "vals = [1, 2, 3]\n",
    "my_dict = dict(zip(keys, vals))\n",
    "my_dict"
   ]
  },
  {
   "cell_type": "code",
   "execution_count": 13,
   "metadata": {},
   "outputs": [
    {
     "data": {
      "text/plain": [
       "{'key1': 1, 'key2': 4, 'key3': 9}"
      ]
     },
     "execution_count": 13,
     "metadata": {},
     "output_type": "execute_result"
    }
   ],
   "source": [
    "new_vals = list(map(pow, vals, repeat(2)))\n",
    "my_dict = dict(zip(keys, new_vals))\n",
    "my_dict"
   ]
  },
  {
   "cell_type": "markdown",
   "metadata": {},
   "source": [
    "## User input guessing\n",
    "## continue and break"
   ]
  },
  {
   "cell_type": "code",
   "execution_count": 2,
   "metadata": {},
   "outputs": [],
   "source": [
    "rand_list = random.choices(range(10), k=100)"
   ]
  },
  {
   "cell_type": "code",
   "execution_count": 3,
   "metadata": {},
   "outputs": [
    {
     "name": "stdout",
     "output_type": "stream",
     "text": [
      "4\n",
      "Guess a number between 0 and 9\t1\n",
      "Guess a number between 0 and 9\t2\n",
      "Guess a number between 0 and 9\t3\n",
      "Guess a number between 0 and 9\t5\n",
      "Maximum tries (4) exceeded!\n"
     ]
    }
   ],
   "source": [
    "rand_num = random.choice(range(10))\n",
    "print(rand_num)\n",
    "\n",
    "guess_is_wrong = True\n",
    "tries = 0\n",
    "\n",
    "while guess_is_wrong:\n",
    "    if rand_num == int(input('Guess a number between 0 and 9\\t')):\n",
    "        print('Correct!!')\n",
    "        guess_is_wrong = False\n",
    "    else:\n",
    "        tries += 1\n",
    "        if tries == 4:\n",
    "            print('Maximum tries (4) exceeded!')\n",
    "            break\n"
   ]
  },
  {
   "cell_type": "markdown",
   "metadata": {},
   "source": [
    "### Continue may be useful to avoid a lot of nested if -else statements"
   ]
  },
  {
   "cell_type": "code",
   "execution_count": 58,
   "metadata": {},
   "outputs": [
    {
     "name": "stdout",
     "output_type": "stream",
     "text": [
      "1\n",
      "3\n",
      "5\n",
      "7\n",
      "9\n"
     ]
    }
   ],
   "source": [
    "current_number = 0\n",
    "\n",
    "while current_number < 10:\n",
    "    current_number += 1\n",
    "    \n",
    "    if current_number % 2 == 0:\n",
    "        continue\n",
    "    \n",
    "    print(current_number)"
   ]
  },
  {
   "cell_type": "code",
   "execution_count": 59,
   "metadata": {},
   "outputs": [
    {
     "data": {
      "text/plain": [
       "['cat', 'hamster', 'goat']"
      ]
     },
     "execution_count": 59,
     "metadata": {},
     "output_type": "execute_result"
    }
   ],
   "source": [
    "pets = ['dog', 'dog', 'cat', 'hamster', 'goat']\n",
    "\n",
    "while 'dog' in pets:\n",
    "    pets.remove('dog')\n",
    "\n",
    "pets"
   ]
  },
  {
   "cell_type": "code",
   "execution_count": 70,
   "metadata": {},
   "outputs": [
    {
     "name": "stdout",
     "output_type": "stream",
     "text": [
      "ValueError\n",
      "list.remove(x): x not in list\n"
     ]
    },
    {
     "data": {
      "text/plain": [
       "['cat', 'hamster', 'goat']"
      ]
     },
     "execution_count": 70,
     "metadata": {},
     "output_type": "execute_result"
    }
   ],
   "source": [
    "pets = ['dog', 'dog', 'cat', 'hamster', 'goat']\n",
    "\n",
    "for pet in pets:\n",
    "    try:\n",
    "        pets.remove('dog')\n",
    "    except Exception as e:\n",
    "        errname = type(e).__name__ ## or e.__class__.__name__\n",
    "        print(errname,\n",
    "              e, \n",
    "              sep='\\n')\n",
    "        break\n",
    "\n",
    "pets"
   ]
  },
  {
   "cell_type": "markdown",
   "metadata": {},
   "source": [
    "### Note that e variable doesn't remain defined"
   ]
  },
  {
   "cell_type": "code",
   "execution_count": 72,
   "metadata": {},
   "outputs": [
    {
     "ename": "NameError",
     "evalue": "name 'e' is not defined",
     "output_type": "error",
     "traceback": [
      "\u001b[0;31m---------------------------------------------------------------------------\u001b[0m",
      "\u001b[0;31mNameError\u001b[0m                                 Traceback (most recent call last)",
      "\u001b[0;32m<ipython-input-72-094e3afb2fe8>\u001b[0m in \u001b[0;36m<module>\u001b[0;34m()\u001b[0m\n\u001b[0;32m----> 1\u001b[0;31m \u001b[0me\u001b[0m\u001b[0;34m\u001b[0m\u001b[0m\n\u001b[0m",
      "\u001b[0;31mNameError\u001b[0m: name 'e' is not defined"
     ]
    }
   ],
   "source": [
    "e"
   ]
  },
  {
   "cell_type": "markdown",
   "metadata": {},
   "source": [
    "## Default arguments in functions\n",
    "### SyntaxError: non-default argument follows default argument"
   ]
  },
  {
   "cell_type": "code",
   "execution_count": 83,
   "metadata": {},
   "outputs": [
    {
     "ename": "SyntaxError",
     "evalue": "non-default argument follows default argument (<ipython-input-83-76e61d843d5b>, line 1)",
     "output_type": "error",
     "traceback": [
      "\u001b[0;36m  File \u001b[0;32m\"<ipython-input-83-76e61d843d5b>\"\u001b[0;36m, line \u001b[0;32m1\u001b[0m\n\u001b[0;31m    def greet(timeofday='Morning', name, sex):\u001b[0m\n\u001b[0m             ^\u001b[0m\n\u001b[0;31mSyntaxError\u001b[0m\u001b[0;31m:\u001b[0m non-default argument follows default argument\n"
     ]
    }
   ],
   "source": [
    "def greet(timeofday='Morning', name, sex):\n",
    "    title = {'M': 'Mr.',\n",
    "             'F': 'Ms.'}\n",
    "    \n",
    "    return f'How are you this {timeofday} {title[sex]}{name}?'"
   ]
  },
  {
   "cell_type": "code",
   "execution_count": 93,
   "metadata": {},
   "outputs": [],
   "source": [
    "def greet(name, sex, timeofday='Morning'):\n",
    "    title = {'M': 'Mr.',\n",
    "             'F': 'Ms.'}\n",
    "    \n",
    "    return f'How are you this {timeofday} {title[sex]}{name}?'"
   ]
  },
  {
   "cell_type": "code",
   "execution_count": 94,
   "metadata": {},
   "outputs": [
    {
     "data": {
      "text/plain": [
       "'How are you this Evening Mr.Abhishek?'"
      ]
     },
     "execution_count": 94,
     "metadata": {},
     "output_type": "execute_result"
    }
   ],
   "source": [
    "greet('Abhishek', 'M', 'Evening')"
   ]
  },
  {
   "cell_type": "markdown",
   "metadata": {},
   "source": [
    "### After that it doesn't  matter how you pass as long as you sepcify the keyword"
   ]
  },
  {
   "cell_type": "code",
   "execution_count": 95,
   "metadata": {},
   "outputs": [
    {
     "data": {
      "text/plain": [
       "'How are you this Evening Mr.Abhishek?'"
      ]
     },
     "execution_count": 95,
     "metadata": {},
     "output_type": "execute_result"
    }
   ],
   "source": [
    "greet(timeofday='Evening', name='Abhishek', sex='M')"
   ]
  },
  {
   "cell_type": "code",
   "execution_count": 96,
   "metadata": {},
   "outputs": [],
   "source": [
    "greet_copy = greet"
   ]
  },
  {
   "cell_type": "code",
   "execution_count": 103,
   "metadata": {},
   "outputs": [
    {
     "data": {
      "text/plain": [
       "'How are you this Evening Mr.Abhishek?'"
      ]
     },
     "execution_count": 103,
     "metadata": {},
     "output_type": "execute_result"
    }
   ],
   "source": [
    "greet_copy('Abhishek', 'M', 'Evening')"
   ]
  },
  {
   "cell_type": "code",
   "execution_count": 104,
   "metadata": {},
   "outputs": [],
   "source": [
    "def getsource(func):\n",
    "    return sys.stdout.write(inspect.getsource(func))"
   ]
  },
  {
   "cell_type": "code",
   "execution_count": 111,
   "metadata": {},
   "outputs": [
    {
     "name": "stdout",
     "output_type": "stream",
     "text": [
      "def greet(name, sex, timeofday='Morning'):\n",
      "    title = {'M': 'Mr.',\n",
      "             'F': 'Ms.'}\n",
      "    \n",
      "    return f'How are you this {timeofday} {title[sex]}{name}?'\n"
     ]
    }
   ],
   "source": [
    "getsource(greet)"
   ]
  },
  {
   "cell_type": "code",
   "execution_count": 108,
   "metadata": {},
   "outputs": [
    {
     "data": {
      "text/plain": [
       "\"def greet(name, sex, timeofday='Morning'):\\n    title = {'M': 'Mr.',\\n             'F': 'Ms.'}\\n    \\n    return f'How are you this {timeofday} {title[sex]}{name}?'\\n\""
      ]
     },
     "execution_count": 108,
     "metadata": {},
     "output_type": "execute_result"
    }
   ],
   "source": [
    "inspect.getsource(greet)"
   ]
  },
  {
   "cell_type": "markdown",
   "metadata": {},
   "source": [
    "### First return ends the function, no need to add and else statement"
   ]
  },
  {
   "cell_type": "code",
   "execution_count": 114,
   "metadata": {},
   "outputs": [],
   "source": [
    "def checkdivby2(num: int):\n",
    "    if num % 2 == 0:\n",
    "        return True\n",
    "    \n",
    "    return False"
   ]
  },
  {
   "cell_type": "code",
   "execution_count": 115,
   "metadata": {},
   "outputs": [
    {
     "data": {
      "text/plain": [
       "True"
      ]
     },
     "execution_count": 115,
     "metadata": {},
     "output_type": "execute_result"
    }
   ],
   "source": [
    "checkdivby2(10)"
   ]
  },
  {
   "cell_type": "code",
   "execution_count": 116,
   "metadata": {},
   "outputs": [
    {
     "data": {
      "text/plain": [
       "False"
      ]
     },
     "execution_count": 116,
     "metadata": {},
     "output_type": "execute_result"
    }
   ],
   "source": [
    "checkdivby2(11)"
   ]
  },
  {
   "cell_type": "markdown",
   "metadata": {},
   "source": [
    "## The boring and famous recursion factorial problem"
   ]
  },
  {
   "cell_type": "code",
   "execution_count": 117,
   "metadata": {},
   "outputs": [],
   "source": [
    "def fact(num):\n",
    "    if num == 0:\n",
    "        return 1\n",
    "    \n",
    "    return num*fact(num-1)"
   ]
  },
  {
   "cell_type": "code",
   "execution_count": 119,
   "metadata": {},
   "outputs": [
    {
     "data": {
      "text/plain": [
       "3628800"
      ]
     },
     "execution_count": 119,
     "metadata": {},
     "output_type": "execute_result"
    }
   ],
   "source": [
    "fact(10)"
   ]
  },
  {
   "cell_type": "markdown",
   "metadata": {},
   "source": [
    "### Optional args : remember to keep the optional arg as some default and after the non-default args"
   ]
  },
  {
   "cell_type": "code",
   "execution_count": 129,
   "metadata": {},
   "outputs": [],
   "source": [
    "def get_formatted_name(first, last, middle=''):\n",
    "    if middle:\n",
    "        return f'{first} {middle} {last}'\n",
    "    \n",
    "    return f'{first} {last}'\n"
   ]
  },
  {
   "cell_type": "code",
   "execution_count": 130,
   "metadata": {},
   "outputs": [
    {
     "data": {
      "text/plain": [
       "'Abhishek Bhatia'"
      ]
     },
     "execution_count": 130,
     "metadata": {},
     "output_type": "execute_result"
    }
   ],
   "source": [
    "get_formatted_name('Abhishek', 'Bhatia')"
   ]
  },
  {
   "cell_type": "code",
   "execution_count": 131,
   "metadata": {},
   "outputs": [
    {
     "data": {
      "text/plain": [
       "'Abhishek Kumar Bhatia'"
      ]
     },
     "execution_count": 131,
     "metadata": {},
     "output_type": "execute_result"
    }
   ],
   "source": [
    "get_formatted_name('Abhishek', 'Bhatia', 'Kumar')"
   ]
  },
  {
   "cell_type": "code",
   "execution_count": 135,
   "metadata": {},
   "outputs": [
    {
     "name": "stdout",
     "output_type": "stream",
     "text": [
      "Probably an empty string\n"
     ]
    }
   ],
   "source": [
    "var = ''\n",
    "if var:\n",
    "    print('Non empty string')\n",
    "else:\n",
    "    print('Probably an empty string')"
   ]
  },
  {
   "cell_type": "code",
   "execution_count": 136,
   "metadata": {},
   "outputs": [
    {
     "name": "stdout",
     "output_type": "stream",
     "text": [
      "Probably an empty object or None\n"
     ]
    }
   ],
   "source": [
    "var = None\n",
    "if var:\n",
    "    print('Non empty object')\n",
    "else:\n",
    "    print('Probably an empty object or None')"
   ]
  },
  {
   "cell_type": "code",
   "execution_count": 150,
   "metadata": {},
   "outputs": [
    {
     "name": "stdout",
     "output_type": "stream",
     "text": [
      "Could be any number not equal to 0\n"
     ]
    }
   ],
   "source": [
    "var = 1\n",
    "if var:\n",
    "    print('Could be any number not equal to 0')\n",
    "else:\n",
    "    print('Probably a 0')"
   ]
  },
  {
   "cell_type": "code",
   "execution_count": 143,
   "metadata": {},
   "outputs": [
    {
     "data": {
      "text/plain": [
       "True"
      ]
     },
     "execution_count": 143,
     "metadata": {},
     "output_type": "execute_result"
    }
   ],
   "source": [
    "1 == True"
   ]
  },
  {
   "cell_type": "code",
   "execution_count": 147,
   "metadata": {},
   "outputs": [
    {
     "data": {
      "text/plain": [
       "False"
      ]
     },
     "execution_count": 147,
     "metadata": {},
     "output_type": "execute_result"
    }
   ],
   "source": [
    "2 is True"
   ]
  },
  {
   "cell_type": "code",
   "execution_count": 148,
   "metadata": {},
   "outputs": [
    {
     "data": {
      "text/plain": [
       "True"
      ]
     },
     "execution_count": 148,
     "metadata": {},
     "output_type": "execute_result"
    }
   ],
   "source": [
    "0 == False"
   ]
  },
  {
   "cell_type": "markdown",
   "metadata": {},
   "source": [
    "### Passing an n number of arguments"
   ]
  },
  {
   "cell_type": "code",
   "execution_count": 184,
   "metadata": {},
   "outputs": [],
   "source": [
    "def print_items(*args):\n",
    "    for arg in args:\n",
    "        print(arg)\n",
    "    "
   ]
  },
  {
   "cell_type": "code",
   "execution_count": 152,
   "metadata": {},
   "outputs": [
    {
     "name": "stdout",
     "output_type": "stream",
     "text": [
      "1\n",
      "24\n",
      "4\n",
      "ajasbha\n"
     ]
    }
   ],
   "source": [
    "print_items(1, 24,  4, 'ajasbha')"
   ]
  },
  {
   "cell_type": "code",
   "execution_count": 163,
   "metadata": {},
   "outputs": [],
   "source": [
    "def print_items(arg1, *args):\n",
    "    print('First argument passed is {}\\n'.format(arg1))\n",
    "    \n",
    "    print('Other arguments part of *args are:')\n",
    "    for arg in args:\n",
    "        print('\\t',arg, sep='')"
   ]
  },
  {
   "cell_type": "code",
   "execution_count": 164,
   "metadata": {},
   "outputs": [
    {
     "name": "stdout",
     "output_type": "stream",
     "text": [
      "First argument passed is 1\n",
      "\n",
      "Other arguments part of *args are:\n",
      "\t24\n",
      "\t4\n",
      "\tajasbha\n"
     ]
    }
   ],
   "source": [
    "print_items(1, 24,  4, 'ajasbha')"
   ]
  },
  {
   "cell_type": "code",
   "execution_count": 170,
   "metadata": {},
   "outputs": [],
   "source": [
    "def print_items(*args, **kwargs):\n",
    "    \n",
    "    for i, arg in enumerate(args):\n",
    "        print(f'argument {i} in *args is {arg}')\n",
    "    \n",
    "    print('\\n')\n",
    "    for key, val in kwargs.items():\n",
    "        print(f'key {key} in **kwargs corresponds to {val}')"
   ]
  },
  {
   "cell_type": "code",
   "execution_count": 171,
   "metadata": {},
   "outputs": [
    {
     "name": "stdout",
     "output_type": "stream",
     "text": [
      "argument 0 in *args is 1\n",
      "argument 1 in *args is 2\n",
      "argument 2 in *args is 3\n",
      "\n",
      "\n",
      "key first in **kwargs corresponds to first\n",
      "key middle in **kwargs corresponds to middle\n",
      "key last in **kwargs corresponds to last\n"
     ]
    }
   ],
   "source": [
    "print_items(1, 2, 3, first='first', middle='middle', last='last')"
   ]
  },
  {
   "cell_type": "markdown",
   "metadata": {},
   "source": [
    "## Order must be maintained"
   ]
  },
  {
   "cell_type": "code",
   "execution_count": 173,
   "metadata": {},
   "outputs": [
    {
     "ename": "SyntaxError",
     "evalue": "positional argument follows keyword argument (<ipython-input-173-834e410871fc>, line 1)",
     "output_type": "error",
     "traceback": [
      "\u001b[0;36m  File \u001b[0;32m\"<ipython-input-173-834e410871fc>\"\u001b[0;36m, line \u001b[0;32m1\u001b[0m\n\u001b[0;31m    print_items(first='first', middle='middle', last='last', 1, 2, 3)\u001b[0m\n\u001b[0m                                                            ^\u001b[0m\n\u001b[0;31mSyntaxError\u001b[0m\u001b[0;31m:\u001b[0m positional argument follows keyword argument\n"
     ]
    }
   ],
   "source": [
    "print_items(first='first', middle='middle', last='last', 1, 2, 3)"
   ]
  },
  {
   "cell_type": "code",
   "execution_count": 175,
   "metadata": {},
   "outputs": [
    {
     "name": "stdout",
     "output_type": "stream",
     "text": [
      "argument 0 in *args is 1\n",
      "argument 1 in *args is 2\n",
      "argument 2 in *args is 3\n",
      "\n",
      "\n",
      "key first in **kwargs corresponds to first\n",
      "key middle in **kwargs corresponds to middle\n",
      "key last in **kwargs corresponds to last\n"
     ]
    }
   ],
   "source": [
    "lst = [1, 2, 3]\n",
    "dct = dict(first='first', middle='middle', last='last')\n",
    "\n",
    "print_items(*lst, **dct)"
   ]
  },
  {
   "cell_type": "code",
   "execution_count": 181,
   "metadata": {},
   "outputs": [],
   "source": [
    "def build_profile(first, last, **user_info):\n",
    "    \n",
    "    user_profile = dict()\n",
    "    user_profile['first'] = first\n",
    "    user_profile['last'] = last\n",
    "    \n",
    "    if user_info:\n",
    "        for prop, detail in user_info.items():\n",
    "            user_profile[key] = detail\n",
    "    \n",
    "    return user_profile"
   ]
  },
  {
   "cell_type": "code",
   "execution_count": 182,
   "metadata": {},
   "outputs": [
    {
     "data": {
      "text/plain": [
       "{'first': 'Abhishek', 'last': 'Bhatia'}"
      ]
     },
     "execution_count": 182,
     "metadata": {},
     "output_type": "execute_result"
    }
   ],
   "source": [
    "build_profile('Abhishek', 'Bhatia')"
   ]
  },
  {
   "cell_type": "markdown",
   "metadata": {},
   "source": [
    "Don't set *args or **kwargs to none default.Also no need to check if args or kwargs exists inside the function\n",
    "They are by default ignored if not provided. Although always perform the tests on the section of code which is\n",
    "optional due to not being provided *args or **kwargs. It might be buggy but will not raise any errors if not executed"
   ]
  },
  {
   "cell_type": "code",
   "execution_count": 189,
   "metadata": {},
   "outputs": [],
   "source": [
    "def build_profile(first, last, **user_info):\n",
    "    \n",
    "    user_profile = dict()\n",
    "    user_profile['first'] = first\n",
    "    user_profile['last'] = last\n",
    "\n",
    "    for prop, detail in user_info.items(): ## \n",
    "        user_profile[prop] = detail\n",
    "    \n",
    "    return user_profile"
   ]
  },
  {
   "cell_type": "code",
   "execution_count": 190,
   "metadata": {},
   "outputs": [
    {
     "data": {
      "text/plain": [
       "{'first': 'Abhishek', 'last': 'Bhatia'}"
      ]
     },
     "execution_count": 190,
     "metadata": {},
     "output_type": "execute_result"
    }
   ],
   "source": [
    "build_profile('Abhishek', 'Bhatia')"
   ]
  },
  {
   "cell_type": "code",
   "execution_count": 191,
   "metadata": {},
   "outputs": [
    {
     "data": {
      "text/plain": [
       "{'first': 'Abhishek', 'last': 'Bhatia', 'age': 25, 'sex': 'M'}"
      ]
     },
     "execution_count": 191,
     "metadata": {},
     "output_type": "execute_result"
    }
   ],
   "source": [
    "build_profile('Abhishek', 'Bhatia', age=25, sex='M')"
   ]
  },
  {
   "cell_type": "code",
   "execution_count": null,
   "metadata": {},
   "outputs": [],
   "source": []
  }
 ],
 "metadata": {
  "kernelspec": {
   "display_name": "Python [conda env:miniconda3]",
   "language": "python",
   "name": "conda-env-miniconda3-py"
  },
  "language_info": {
   "codemirror_mode": {
    "name": "ipython",
    "version": 3
   },
   "file_extension": ".py",
   "mimetype": "text/x-python",
   "name": "python",
   "nbconvert_exporter": "python",
   "pygments_lexer": "ipython3",
   "version": "3.6.6"
  },
  "varInspector": {
   "cols": {
    "lenName": 16,
    "lenType": 16,
    "lenVar": 40
   },
   "kernels_config": {
    "python": {
     "delete_cmd_postfix": "",
     "delete_cmd_prefix": "del ",
     "library": "var_list.py",
     "varRefreshCmd": "print(var_dic_list())"
    },
    "r": {
     "delete_cmd_postfix": ") ",
     "delete_cmd_prefix": "rm(",
     "library": "var_list.r",
     "varRefreshCmd": "cat(var_dic_list()) "
    }
   },
   "oldHeight": 382.01666600000004,
   "position": {
    "height": "40px",
    "left": "1390px",
    "right": "20px",
    "top": "120px",
    "width": "350px"
   },
   "types_to_exclude": [
    "module",
    "function",
    "builtin_function_or_method",
    "instance",
    "_Feature"
   ],
   "varInspector_section_display": "none",
   "window_display": true
  }
 },
 "nbformat": 4,
 "nbformat_minor": 2
}
