{
 "cells": [
  {
   "cell_type": "code",
   "execution_count": 2,
   "metadata": {},
   "outputs": [],
   "source": [
    "import memory_profiler as mem_prof\n",
    "from time import time\n",
    "from functools import wraps\n",
    "import numbers\n",
    "import os"
   ]
  },
  {
   "cell_type": "markdown",
   "metadata": {},
   "source": [
    "## Closures"
   ]
  },
  {
   "cell_type": "markdown",
   "metadata": {},
   "source": [
    "### Global accessible by the function"
   ]
  },
  {
   "cell_type": "code",
   "execution_count": 50,
   "metadata": {},
   "outputs": [
    {
     "name": "stdout",
     "output_type": "stream",
     "text": [
      "NameError, name 'msg' is not defined\n"
     ]
    }
   ],
   "source": [
    "msg = 'global'\n",
    "del msg\n",
    "def outer():\n",
    "    try:\n",
    "        print(msg)\n",
    "    except Exception as e:\n",
    "        print(f'{e.__class__.__name__}, {e}')\n",
    "    \n",
    "outer()"
   ]
  },
  {
   "cell_type": "code",
   "execution_count": 51,
   "metadata": {},
   "outputs": [
    {
     "name": "stdout",
     "output_type": "stream",
     "text": [
      "No such variable msg\n"
     ]
    }
   ],
   "source": [
    "msg = 'global'\n",
    "del msg\n",
    "def outer():\n",
    "    try:\n",
    "        print(msg)\n",
    "    except NameError:\n",
    "        print(f'No such variable msg')\n",
    "        \n",
    "outer()"
   ]
  },
  {
   "cell_type": "code",
   "execution_count": 56,
   "metadata": {},
   "outputs": [
    {
     "ename": "NameError",
     "evalue": "No such variable msg",
     "output_type": "error",
     "traceback": [
      "\u001b[0;31m---------------------------------------------------------------------------\u001b[0m",
      "\u001b[0;31mNameError\u001b[0m                                 Traceback (most recent call last)",
      "\u001b[0;32m<ipython-input-56-50194c2797c1>\u001b[0m in \u001b[0;36m<module>\u001b[0;34m()\u001b[0m\n\u001b[1;32m      6\u001b[0m     \u001b[0;32melse\u001b[0m\u001b[0;34m:\u001b[0m\u001b[0;34m\u001b[0m\u001b[0m\n\u001b[1;32m      7\u001b[0m         \u001b[0;32mraise\u001b[0m \u001b[0mNameError\u001b[0m\u001b[0;34m(\u001b[0m\u001b[0;34m'No such variable msg'\u001b[0m\u001b[0;34m)\u001b[0m\u001b[0;34m\u001b[0m\u001b[0m\n\u001b[0;32m----> 8\u001b[0;31m \u001b[0mouter\u001b[0m\u001b[0;34m(\u001b[0m\u001b[0;34m)\u001b[0m\u001b[0;34m\u001b[0m\u001b[0m\n\u001b[0m",
      "\u001b[0;32m<ipython-input-56-50194c2797c1>\u001b[0m in \u001b[0;36mouter\u001b[0;34m()\u001b[0m\n\u001b[1;32m      5\u001b[0m         \u001b[0mprint\u001b[0m\u001b[0;34m(\u001b[0m\u001b[0mmsg\u001b[0m\u001b[0;34m)\u001b[0m\u001b[0;34m\u001b[0m\u001b[0m\n\u001b[1;32m      6\u001b[0m     \u001b[0;32melse\u001b[0m\u001b[0;34m:\u001b[0m\u001b[0;34m\u001b[0m\u001b[0m\n\u001b[0;32m----> 7\u001b[0;31m         \u001b[0;32mraise\u001b[0m \u001b[0mNameError\u001b[0m\u001b[0;34m(\u001b[0m\u001b[0;34m'No such variable msg'\u001b[0m\u001b[0;34m)\u001b[0m\u001b[0;34m\u001b[0m\u001b[0m\n\u001b[0m\u001b[1;32m      8\u001b[0m \u001b[0mouter\u001b[0m\u001b[0;34m(\u001b[0m\u001b[0;34m)\u001b[0m\u001b[0;34m\u001b[0m\u001b[0m\n",
      "\u001b[0;31mNameError\u001b[0m: No such variable msg"
     ]
    }
   ],
   "source": [
    "msg = 'global'\n",
    "del msg\n",
    "def outer():\n",
    "    if 'msg' in locals():\n",
    "        print(msg)\n",
    "    else:\n",
    "        raise NameError('No such variable msg')\n",
    "outer()"
   ]
  },
  {
   "cell_type": "code",
   "execution_count": 59,
   "metadata": {},
   "outputs": [
    {
     "name": "stdout",
     "output_type": "stream",
     "text": [
      "variable msg in outer function is global\n"
     ]
    }
   ],
   "source": [
    "msg = 'global'\n",
    "def outer():\n",
    "    try:\n",
    "        print(f'variable msg in outer function is {msg}')\n",
    "    except NameError:\n",
    "        print(f'No such variable msg')\n",
    "        \n",
    "outer()"
   ]
  },
  {
   "cell_type": "markdown",
   "metadata": {},
   "source": [
    "### The UnboundLocalError"
   ]
  },
  {
   "cell_type": "code",
   "execution_count": 105,
   "metadata": {},
   "outputs": [
    {
     "ename": "UnboundLocalError",
     "evalue": "local variable 'msg' referenced before assignment",
     "output_type": "error",
     "traceback": [
      "\u001b[0;31m---------------------------------------------------------------------------\u001b[0m",
      "\u001b[0;31mUnboundLocalError\u001b[0m                         Traceback (most recent call last)",
      "\u001b[0;32m<ipython-input-105-6c12a4e09c94>\u001b[0m in \u001b[0;36m<module>\u001b[0;34m()\u001b[0m\n\u001b[1;32m      4\u001b[0m     \u001b[0mmsg\u001b[0m \u001b[0;34m=\u001b[0m \u001b[0mmsg\u001b[0m \u001b[0;34m+\u001b[0m \u001b[0;34m' appended in outer'\u001b[0m \u001b[0;31m## same result with msg += ' appended in outer'\u001b[0m\u001b[0;34m\u001b[0m\u001b[0m\n\u001b[1;32m      5\u001b[0m \u001b[0;34m\u001b[0m\u001b[0m\n\u001b[0;32m----> 6\u001b[0;31m \u001b[0mouter\u001b[0m\u001b[0;34m(\u001b[0m\u001b[0;34m)\u001b[0m\u001b[0;34m\u001b[0m\u001b[0m\n\u001b[0m",
      "\u001b[0;32m<ipython-input-105-6c12a4e09c94>\u001b[0m in \u001b[0;36mouter\u001b[0;34m()\u001b[0m\n\u001b[1;32m      2\u001b[0m \u001b[0;34m\u001b[0m\u001b[0m\n\u001b[1;32m      3\u001b[0m \u001b[0;32mdef\u001b[0m \u001b[0mouter\u001b[0m\u001b[0;34m(\u001b[0m\u001b[0;34m)\u001b[0m\u001b[0;34m:\u001b[0m\u001b[0;34m\u001b[0m\u001b[0m\n\u001b[0;32m----> 4\u001b[0;31m     \u001b[0mmsg\u001b[0m \u001b[0;34m=\u001b[0m \u001b[0mmsg\u001b[0m \u001b[0;34m+\u001b[0m \u001b[0;34m' appended in outer'\u001b[0m \u001b[0;31m## same result with msg += ' appended in outer'\u001b[0m\u001b[0;34m\u001b[0m\u001b[0m\n\u001b[0m\u001b[1;32m      5\u001b[0m \u001b[0;34m\u001b[0m\u001b[0m\n\u001b[1;32m      6\u001b[0m \u001b[0mouter\u001b[0m\u001b[0;34m(\u001b[0m\u001b[0;34m)\u001b[0m\u001b[0;34m\u001b[0m\u001b[0m\n",
      "\u001b[0;31mUnboundLocalError\u001b[0m: local variable 'msg' referenced before assignment"
     ]
    }
   ],
   "source": [
    "msg = 'global'\n",
    "\n",
    "def outer():\n",
    "    msg = msg + ' appended in outer' ## same result with msg += ' appended in outer'\n",
    "    \n",
    "outer()"
   ]
  },
  {
   "cell_type": "markdown",
   "metadata": {},
   "source": [
    "### Problem not the same with printing the global msg"
   ]
  },
  {
   "cell_type": "code",
   "execution_count": 106,
   "metadata": {},
   "outputs": [
    {
     "name": "stdout",
     "output_type": "stream",
     "text": [
      "global\n"
     ]
    }
   ],
   "source": [
    "msg = 'global'\n",
    "\n",
    "def outer():\n",
    "    print(msg)\n",
    "    \n",
    "outer()"
   ]
  },
  {
   "cell_type": "markdown",
   "metadata": {},
   "source": [
    "### Just add global to make any appending changes"
   ]
  },
  {
   "cell_type": "code",
   "execution_count": 109,
   "metadata": {},
   "outputs": [
    {
     "name": "stdout",
     "output_type": "stream",
     "text": [
      "global appended in outer\n",
      "global appended in outer\n"
     ]
    }
   ],
   "source": [
    "msg = 'global'\n",
    "\n",
    "def outer():\n",
    "    global msg\n",
    "    msg = msg + ' appended in outer' ## same result with msg += ' appended in outer'\n",
    "    print(msg)\n",
    "    \n",
    "outer()\n",
    "print(msg)"
   ]
  },
  {
   "cell_type": "markdown",
   "metadata": {},
   "source": [
    "### Global accessible by both inner and outer\n"
   ]
  },
  {
   "cell_type": "code",
   "execution_count": 69,
   "metadata": {},
   "outputs": [
    {
     "name": "stdout",
     "output_type": "stream",
     "text": [
      "outer msg is global\n",
      "inner msg is global\n"
     ]
    }
   ],
   "source": [
    "msg = 'global'\n",
    "\n",
    "def outer():\n",
    "    print(f'outer msg is {msg}')\n",
    "        \n",
    "    def inner():\n",
    "        print(f'inner msg is {msg}')\n",
    "            \n",
    "    inner()\n",
    "    \n",
    "outer()"
   ]
  },
  {
   "cell_type": "markdown",
   "metadata": {},
   "source": [
    "### Global won't be overrided, rather added to locals when you assign it inside the outer function"
   ]
  },
  {
   "cell_type": "code",
   "execution_count": 78,
   "metadata": {},
   "outputs": [
    {
     "name": "stdout",
     "output_type": "stream",
     "text": [
      "outer msg is outer\n",
      "inner msg is outer\n",
      "global\n"
     ]
    }
   ],
   "source": [
    "msg = 'global'\n",
    "\n",
    "def outer():\n",
    "    msg = 'outer'\n",
    "    print(f'outer msg is {msg}')\n",
    "        \n",
    "    def inner():\n",
    "        print(f'inner msg is {msg}')\n",
    "            \n",
    "    inner()\n",
    "    \n",
    "outer()\n",
    "print(msg)"
   ]
  },
  {
   "cell_type": "markdown",
   "metadata": {},
   "source": [
    "### But can be overrided by explicitly specifying global"
   ]
  },
  {
   "cell_type": "code",
   "execution_count": 79,
   "metadata": {},
   "outputs": [
    {
     "name": "stdout",
     "output_type": "stream",
     "text": [
      "outer msg is outer\n",
      "inner msg is outer\n",
      "outer\n"
     ]
    }
   ],
   "source": [
    "msg = 'global'\n",
    "\n",
    "def outer():\n",
    "    global msg\n",
    "    msg = 'outer'\n",
    "    print(f'outer msg is {msg}')\n",
    "        \n",
    "    def inner():\n",
    "        print(f'inner msg is {msg}')\n",
    "            \n",
    "    inner()\n",
    "    \n",
    "outer()\n",
    "print(msg)"
   ]
  },
  {
   "cell_type": "markdown",
   "metadata": {},
   "source": [
    "### Preference taken first for local"
   ]
  },
  {
   "cell_type": "code",
   "execution_count": 71,
   "metadata": {},
   "outputs": [
    {
     "name": "stdout",
     "output_type": "stream",
     "text": [
      "outer msg is outer\n",
      "inner msg is outer\n"
     ]
    }
   ],
   "source": [
    "msg = 'global'\n",
    "\n",
    "def outer():\n",
    "    msg = 'outer'\n",
    "    print(f'outer msg is {msg}')\n",
    "        \n",
    "    def inner():\n",
    "        print(f'inner msg is {msg}')\n",
    "            \n",
    "    inner()\n",
    "\n",
    "outer()"
   ]
  },
  {
   "cell_type": "markdown",
   "metadata": {},
   "source": [
    "### Although it allows overriding of the msg defined in outer (not the global)"
   ]
  },
  {
   "cell_type": "code",
   "execution_count": 89,
   "metadata": {},
   "outputs": [
    {
     "name": "stdout",
     "output_type": "stream",
     "text": [
      "outer msg is outer\n",
      "inner msg is outer\n",
      "global\n"
     ]
    }
   ],
   "source": [
    "msg = 'global'\n",
    "\n",
    "def outer():\n",
    "    msg = 'outer'\n",
    "    print(f'outer msg is {msg}')\n",
    "        \n",
    "    def inner():\n",
    "        print(f'inner msg is {msg}')\n",
    "            \n",
    "    inner()\n",
    "\n",
    "outer()\n",
    "print(msg)"
   ]
  },
  {
   "cell_type": "markdown",
   "metadata": {},
   "source": [
    "### Need to use the global msg in inner function but not the outer? ==> add global"
   ]
  },
  {
   "cell_type": "code",
   "execution_count": 90,
   "metadata": {},
   "outputs": [
    {
     "name": "stdout",
     "output_type": "stream",
     "text": [
      "outer msg is outer\n",
      "inner msg is global\n",
      "global\n"
     ]
    }
   ],
   "source": [
    "msg = 'global'\n",
    "\n",
    "def outer():\n",
    "    msg = 'outer'\n",
    "    print(f'outer msg is {msg}')\n",
    "        \n",
    "    def inner():\n",
    "        global msg\n",
    "        print(f'inner msg is {msg}')\n",
    "            \n",
    "    inner()\n",
    "\n",
    "outer()\n",
    "print(msg)"
   ]
  },
  {
   "cell_type": "markdown",
   "metadata": {},
   "source": [
    "### Same UnboundLocalError when appending to outer msg\n"
   ]
  },
  {
   "cell_type": "code",
   "execution_count": 114,
   "metadata": {},
   "outputs": [
    {
     "name": "stdout",
     "output_type": "stream",
     "text": [
      "outer msg is outer\n"
     ]
    },
    {
     "ename": "UnboundLocalError",
     "evalue": "local variable 'msg' referenced before assignment",
     "output_type": "error",
     "traceback": [
      "\u001b[0;31m---------------------------------------------------------------------------\u001b[0m",
      "\u001b[0;31mUnboundLocalError\u001b[0m                         Traceback (most recent call last)",
      "\u001b[0;32m<ipython-input-114-0b4a7d784db0>\u001b[0m in \u001b[0;36m<module>\u001b[0;34m()\u001b[0m\n\u001b[1;32m     12\u001b[0m     \u001b[0mprint\u001b[0m\u001b[0;34m(\u001b[0m\u001b[0;34mf'outer msg after redefining in inner is {msg}'\u001b[0m\u001b[0;34m)\u001b[0m\u001b[0;34m\u001b[0m\u001b[0m\n\u001b[1;32m     13\u001b[0m \u001b[0;34m\u001b[0m\u001b[0m\n\u001b[0;32m---> 14\u001b[0;31m \u001b[0mouter\u001b[0m\u001b[0;34m(\u001b[0m\u001b[0;34m)\u001b[0m\u001b[0;34m\u001b[0m\u001b[0m\n\u001b[0m\u001b[1;32m     15\u001b[0m \u001b[0mprint\u001b[0m\u001b[0;34m(\u001b[0m\u001b[0mmsg\u001b[0m\u001b[0;34m)\u001b[0m\u001b[0;34m\u001b[0m\u001b[0m\n",
      "\u001b[0;32m<ipython-input-114-0b4a7d784db0>\u001b[0m in \u001b[0;36mouter\u001b[0;34m()\u001b[0m\n\u001b[1;32m      9\u001b[0m         \u001b[0mprint\u001b[0m\u001b[0;34m(\u001b[0m\u001b[0;34mf'inner msg is {msg}'\u001b[0m\u001b[0;34m)\u001b[0m\u001b[0;34m\u001b[0m\u001b[0m\n\u001b[1;32m     10\u001b[0m \u001b[0;34m\u001b[0m\u001b[0m\n\u001b[0;32m---> 11\u001b[0;31m     \u001b[0minner\u001b[0m\u001b[0;34m(\u001b[0m\u001b[0;34m)\u001b[0m\u001b[0;34m\u001b[0m\u001b[0m\n\u001b[0m\u001b[1;32m     12\u001b[0m     \u001b[0mprint\u001b[0m\u001b[0;34m(\u001b[0m\u001b[0;34mf'outer msg after redefining in inner is {msg}'\u001b[0m\u001b[0;34m)\u001b[0m\u001b[0;34m\u001b[0m\u001b[0m\n\u001b[1;32m     13\u001b[0m \u001b[0;34m\u001b[0m\u001b[0m\n",
      "\u001b[0;32m<ipython-input-114-0b4a7d784db0>\u001b[0m in \u001b[0;36minner\u001b[0;34m()\u001b[0m\n\u001b[1;32m      6\u001b[0m \u001b[0;34m\u001b[0m\u001b[0m\n\u001b[1;32m      7\u001b[0m     \u001b[0;32mdef\u001b[0m \u001b[0minner\u001b[0m\u001b[0;34m(\u001b[0m\u001b[0;34m)\u001b[0m\u001b[0;34m:\u001b[0m\u001b[0;34m\u001b[0m\u001b[0m\n\u001b[0;32m----> 8\u001b[0;31m         \u001b[0mmsg\u001b[0m \u001b[0;34m+=\u001b[0m \u001b[0;34m'inner'\u001b[0m\u001b[0;34m\u001b[0m\u001b[0m\n\u001b[0m\u001b[1;32m      9\u001b[0m         \u001b[0mprint\u001b[0m\u001b[0;34m(\u001b[0m\u001b[0;34mf'inner msg is {msg}'\u001b[0m\u001b[0;34m)\u001b[0m\u001b[0;34m\u001b[0m\u001b[0m\n\u001b[1;32m     10\u001b[0m \u001b[0;34m\u001b[0m\u001b[0m\n",
      "\u001b[0;31mUnboundLocalError\u001b[0m: local variable 'msg' referenced before assignment"
     ]
    }
   ],
   "source": [
    "msg = 'global'\n",
    "\n",
    "def outer():\n",
    "    msg = 'outer'\n",
    "    print(f'outer msg is {msg}')\n",
    "        \n",
    "    def inner():\n",
    "        msg += ' inner'\n",
    "        print(f'inner msg is {msg}')\n",
    "            \n",
    "    inner()\n",
    "    print(f'outer msg after redefining in inner is {msg}')\n",
    "\n",
    "outer()\n",
    "print(msg)"
   ]
  },
  {
   "cell_type": "markdown",
   "metadata": {},
   "source": [
    "### Want to access and override the outer msg ==> add nonlocal "
   ]
  },
  {
   "cell_type": "code",
   "execution_count": 113,
   "metadata": {},
   "outputs": [
    {
     "name": "stdout",
     "output_type": "stream",
     "text": [
      "outer msg is outer\n",
      "inner msg is inner\n",
      "outer msg after redefining in inner is inner\n",
      "global\n"
     ]
    }
   ],
   "source": [
    "msg = 'global'\n",
    "\n",
    "def outer():\n",
    "    msg = 'outer'\n",
    "    print(f'outer msg is {msg}')\n",
    "        \n",
    "    def inner():\n",
    "        nonlocal msg\n",
    "        msg = 'inner'\n",
    "        print(f'inner msg is {msg}')\n",
    "            \n",
    "    inner()\n",
    "    print(f'outer msg after redefining in inner is {msg}')\n",
    "\n",
    "outer()\n",
    "print(msg)"
   ]
  },
  {
   "cell_type": "markdown",
   "metadata": {},
   "source": [
    "### But surprisingly this works with assigning keys to a dictionary or lists defined in outer without specifying nonlocal? => Woah!"
   ]
  },
  {
   "cell_type": "code",
   "execution_count": 123,
   "metadata": {},
   "outputs": [
    {
     "name": "stdout",
     "output_type": "stream",
     "text": [
      "outer function msg is {'outer': 1}\n",
      "inner function msg is {'outer': 2}\n",
      "msg in outer after assigning a key in inner is {'outer': 2}\n"
     ]
    }
   ],
   "source": [
    "def outer():\n",
    "    msg = {'outer': 1}\n",
    "    print(f'outer function msg is {msg}')\n",
    "    \n",
    "    def inner():\n",
    "        msg['outer'] = 2\n",
    "        print(f'inner function msg is {msg}')\n",
    "    \n",
    "    inner()\n",
    "    print(f'msg in outer after assigning a key in inner is {msg}')\n",
    "    \n",
    "outer()"
   ]
  },
  {
   "cell_type": "markdown",
   "metadata": {},
   "source": [
    "### The reason behind this behaviour\n",
    "refer [here](https://stackoverflow.com/questions/14323817/global-dictionaries-dont-need-keyword-global-to-modify-them)"
   ]
  },
  {
   "cell_type": "markdown",
   "metadata": {},
   "source": [
    "Assigning a string or an integer is ambigous i.e. it could either be referring to a global or a local variable.\n",
    "So python resorts to defining a new local variable rather than overriding it.\n",
    "But would raise an error if it is appended to"
   ]
  },
  {
   "cell_type": "code",
   "execution_count": 125,
   "metadata": {},
   "outputs": [
    {
     "name": "stdout",
     "output_type": "stream",
     "text": [
      "outer\n",
      "msg after running outer is global\n"
     ]
    }
   ],
   "source": [
    "msg = 'global'\n",
    "\n",
    "def outer():\n",
    "    msg = 'outer'\n",
    "    print(msg)\n",
    "    \n",
    "outer()\n",
    "print(f'msg after running outer is {msg}')"
   ]
  },
  {
   "cell_type": "code",
   "execution_count": 127,
   "metadata": {},
   "outputs": [
    {
     "name": "stdout",
     "output_type": "stream",
     "text": [
      "local variable 'msg' referenced before assignment\n",
      "msg after running outer is global\n"
     ]
    }
   ],
   "source": [
    "msg = 'global'\n",
    "\n",
    "def outer():\n",
    "    msg += ' appending in outer'\n",
    "    print(msg)\n",
    "\n",
    "try:\n",
    "    outer()\n",
    "except UnboundLocalError as e:\n",
    "    print(e)\n",
    "\n",
    "print(f'msg after running outer is {msg}')"
   ]
  },
  {
   "cell_type": "markdown",
   "metadata": {},
   "source": [
    "But assigning a key to a dictionary or appending to a list is unambigous as the line dictvar['key1'] += 1 or listvar.append(1) can only be referring to global (or nonlocal) for it to not throw an error."
   ]
  },
  {
   "cell_type": "code",
   "execution_count": 132,
   "metadata": {},
   "outputs": [
    {
     "name": "stdout",
     "output_type": "stream",
     "text": [
      "msg in global before calling outer() is {'global': 'global'}\n",
      "{'global': 'global appended in outer'}\n",
      "msg in global after calling outer() is {'global': 'global appended in outer'}\n"
     ]
    }
   ],
   "source": [
    "msg = dict()\n",
    "msg['global'] = 'global'\n",
    "print(f'msg in global before calling outer() is {msg}')\n",
    "\n",
    "def outer():\n",
    "    msg['global'] = f\"{msg['global']} appended in outer\"\n",
    "    print(msg)\n",
    "\n",
    "outer()\n",
    "print(f'msg in global after calling outer() is {msg}')"
   ]
  },
  {
   "cell_type": "markdown",
   "metadata": {},
   "source": [
    "The dictionary insertion is not an assignment rather an insertion which calls \\_\\_setitem_\\_ method the dict"
   ]
  },
  {
   "cell_type": "code",
   "execution_count": 135,
   "metadata": {},
   "outputs": [
    {
     "data": {
      "text/plain": [
       "{'key': 'val'}"
      ]
     },
     "execution_count": 135,
     "metadata": {},
     "output_type": "execute_result"
    }
   ],
   "source": [
    "dictvar = dict()\n",
    "dictvar.__setitem__('key', 'val')\n",
    "dictvar"
   ]
  },
  {
   "cell_type": "markdown",
   "metadata": {},
   "source": [
    "### Listvars can be referenced and assigned via the index inside the outer"
   ]
  },
  {
   "cell_type": "code",
   "execution_count": 146,
   "metadata": {},
   "outputs": [
    {
     "name": "stdout",
     "output_type": "stream",
     "text": [
      "[0, 2, 3]\n"
     ]
    }
   ],
   "source": [
    "glob_lst = [1, 2 , 3]\n",
    "\n",
    "def outer():\n",
    "    glob_lst[0] = 0\n",
    "    \n",
    "outer()\n",
    "print(glob_lst)"
   ]
  },
  {
   "cell_type": "markdown",
   "metadata": {},
   "source": [
    "### Generators and functions"
   ]
  },
  {
   "cell_type": "code",
   "execution_count": 183,
   "metadata": {},
   "outputs": [
    {
     "name": "stdout",
     "output_type": "stream",
     "text": [
      "[1, 2, 3, 4]\n",
      "[1, 4, 9, 16]\n"
     ]
    }
   ],
   "source": [
    "def squared_lst(lst):\n",
    "    sq_lst = list()\n",
    "    for num in lst:\n",
    "        sq_lst.append(num**2)\n",
    "        \n",
    "    return sq_lst\n",
    "        \n",
    "lst = [1, 2, 3 ,4]\n",
    "print(lst)\n",
    "sq_list = squared_lst(lst)\n",
    "print(sq_list)"
   ]
  },
  {
   "cell_type": "code",
   "execution_count": 184,
   "metadata": {},
   "outputs": [],
   "source": [
    "def squared_gen(lst):\n",
    "    for num in lst:\n",
    "        yield num**2"
   ]
  },
  {
   "cell_type": "code",
   "execution_count": 185,
   "metadata": {},
   "outputs": [
    {
     "data": {
      "text/plain": [
       "<generator object squared_gen at 0x7f52f5cb7938>"
      ]
     },
     "execution_count": 185,
     "metadata": {},
     "output_type": "execute_result"
    }
   ],
   "source": [
    "sq_gen = squared_gen(lst)\n",
    "sq_gen"
   ]
  },
  {
   "cell_type": "code",
   "execution_count": 186,
   "metadata": {},
   "outputs": [
    {
     "name": "stdout",
     "output_type": "stream",
     "text": [
      "1\n",
      "4\n",
      "9\n",
      "16\n"
     ]
    }
   ],
   "source": [
    "for num in sq_gen:\n",
    "    print(num)"
   ]
  },
  {
   "cell_type": "code",
   "execution_count": 166,
   "metadata": {},
   "outputs": [
    {
     "name": "stdout",
     "output_type": "stream",
     "text": [
      "1\n",
      "4\n",
      "9\n",
      "16\n"
     ]
    },
    {
     "ename": "StopIteration",
     "evalue": "",
     "output_type": "error",
     "traceback": [
      "\u001b[0;31m---------------------------------------------------------------------------\u001b[0m",
      "\u001b[0;31mStopIteration\u001b[0m                             Traceback (most recent call last)",
      "\u001b[0;32m<ipython-input-166-38e24e78c1a8>\u001b[0m in \u001b[0;36m<module>\u001b[0;34m()\u001b[0m\n\u001b[1;32m      4\u001b[0m \u001b[0mprint\u001b[0m\u001b[0;34m(\u001b[0m\u001b[0mnext\u001b[0m\u001b[0;34m(\u001b[0m\u001b[0msq_gen\u001b[0m\u001b[0;34m)\u001b[0m\u001b[0;34m)\u001b[0m\u001b[0;34m\u001b[0m\u001b[0m\n\u001b[1;32m      5\u001b[0m \u001b[0mprint\u001b[0m\u001b[0;34m(\u001b[0m\u001b[0mnext\u001b[0m\u001b[0;34m(\u001b[0m\u001b[0msq_gen\u001b[0m\u001b[0;34m)\u001b[0m\u001b[0;34m)\u001b[0m\u001b[0;34m\u001b[0m\u001b[0m\n\u001b[0;32m----> 6\u001b[0;31m \u001b[0mprint\u001b[0m\u001b[0;34m(\u001b[0m\u001b[0mnext\u001b[0m\u001b[0;34m(\u001b[0m\u001b[0msq_gen\u001b[0m\u001b[0;34m)\u001b[0m\u001b[0;34m)\u001b[0m\u001b[0;34m\u001b[0m\u001b[0m\n\u001b[0m",
      "\u001b[0;31mStopIteration\u001b[0m: "
     ]
    }
   ],
   "source": [
    "sq_gen = squared_lst_gen(lst)\n",
    "print(next(sq_gen))\n",
    "print(next(sq_gen))\n",
    "print(next(sq_gen))\n",
    "print(next(sq_gen))\n",
    "print(next(sq_gen))"
   ]
  },
  {
   "cell_type": "markdown",
   "metadata": {},
   "source": [
    "### Approximately how under the hood looping works"
   ]
  },
  {
   "cell_type": "code",
   "execution_count": 169,
   "metadata": {},
   "outputs": [
    {
     "name": "stdout",
     "output_type": "stream",
     "text": [
      "1\n",
      "2\n",
      "3\n",
      "4\n"
     ]
    }
   ],
   "source": [
    "lst = [1, 2, 3 ,4]\n",
    "iter_lst = iter(lst)\n",
    "\n",
    "while True:\n",
    "    try:\n",
    "        print(next(iter_lst))\n",
    "    except StopIteration:\n",
    "        break"
   ]
  },
  {
   "cell_type": "markdown",
   "metadata": {},
   "source": [
    "### Infact range() is a generator"
   ]
  },
  {
   "cell_type": "markdown",
   "metadata": {},
   "source": [
    "### Let's time it for a large list of num and see the memory usage"
   ]
  },
  {
   "cell_type": "code",
   "execution_count": 194,
   "metadata": {},
   "outputs": [],
   "source": [
    "def timer(func):\n",
    "    \n",
    "    @wraps(func)\n",
    "    def wrapper(*args, **kwargs):\n",
    "        t1 = time()\n",
    "        rv = func(*args, **kwargs)\n",
    "        t2 = time()\n",
    "        print(f'Elapsed: {t2-t1}s')\n",
    "        return rv\n",
    "    \n",
    "    return wrapper"
   ]
  },
  {
   "cell_type": "code",
   "execution_count": 210,
   "metadata": {},
   "outputs": [],
   "source": [
    "def mem_use(func):\n",
    "    \n",
    "    @wraps(func)\n",
    "    def wrapper(*args, **kwargs):\n",
    "        m1 = mem_prof.memory_usage()[0]\n",
    "        rv = func(*args, **kwargs)\n",
    "        m2 = mem_prof.memory_usage()[0]\n",
    "        print(f'Memory occupied: {m2-m1}MB')\n",
    "        \n",
    "        return rv\n",
    "    \n",
    "    return wrapper"
   ]
  },
  {
   "cell_type": "code",
   "execution_count": 212,
   "metadata": {},
   "outputs": [],
   "source": [
    "@timer\n",
    "@mem_use\n",
    "def squared_lst(lst):\n",
    "    sq_lst = list()\n",
    "    for num in lst:\n",
    "        sq_lst.append(num**2)\n",
    "        \n",
    "    return sq_lst"
   ]
  },
  {
   "cell_type": "code",
   "execution_count": 225,
   "metadata": {},
   "outputs": [],
   "source": [
    "@timer\n",
    "@mem_use\n",
    "def squared_gen(lst):\n",
    "    for num in lst:\n",
    "        yield num**2"
   ]
  },
  {
   "cell_type": "code",
   "execution_count": 227,
   "metadata": {},
   "outputs": [],
   "source": [
    "lst = list(range(10**7))"
   ]
  },
  {
   "cell_type": "code",
   "execution_count": 228,
   "metadata": {},
   "outputs": [
    {
     "name": "stdout",
     "output_type": "stream",
     "text": [
      "For the function returning the list \n",
      "\n",
      "Memory occupied: 386.07421875MB\n",
      "Elapsed: 3.149179220199585s\n"
     ]
    }
   ],
   "source": [
    "print('For the function returning the list','\\n')\n",
    "result_lst = squared_lst(lst)"
   ]
  },
  {
   "cell_type": "code",
   "execution_count": 229,
   "metadata": {},
   "outputs": [
    {
     "name": "stdout",
     "output_type": "stream",
     "text": [
      "For the function returning the generator \n",
      "\n",
      "Memory occupied: 0.0MB\n",
      "Elapsed: 0.20267915725708008s\n"
     ]
    }
   ],
   "source": [
    "print('For the function returning the generator','\\n')\n",
    "result_gen = squared_gen(lst)"
   ]
  },
  {
   "cell_type": "markdown",
   "metadata": {},
   "source": [
    "### But this does not account for looping through times"
   ]
  },
  {
   "cell_type": "code",
   "execution_count": 231,
   "metadata": {},
   "outputs": [
    {
     "name": "stdout",
     "output_type": "stream",
     "text": [
      "CPU times: user 184 ms, sys: 0 ns, total: 184 ms\n",
      "Wall time: 183 ms\n"
     ]
    }
   ],
   "source": [
    "%%time\n",
    "\n",
    "for num in result_lst:\n",
    "    pass"
   ]
  },
  {
   "cell_type": "code",
   "execution_count": 232,
   "metadata": {},
   "outputs": [
    {
     "name": "stdout",
     "output_type": "stream",
     "text": [
      "CPU times: user 2.75 s, sys: 0 ns, total: 2.75 s\n",
      "Wall time: 2.75 s\n"
     ]
    }
   ],
   "source": [
    "%%time \n",
    "\n",
    "for num in result_gen:\n",
    "    pass"
   ]
  },
  {
   "cell_type": "markdown",
   "metadata": {},
   "source": [
    "### Let's delete the large lists that we created"
   ]
  },
  {
   "cell_type": "code",
   "execution_count": 234,
   "metadata": {},
   "outputs": [],
   "source": [
    "try:\n",
    "    del lst, result_lst, result_gen\n",
    "except NameError:\n",
    "    pass"
   ]
  },
  {
   "cell_type": "markdown",
   "metadata": {},
   "source": [
    "### Some operations with classes"
   ]
  },
  {
   "cell_type": "markdown",
   "metadata": {},
   "source": [
    "### Implement the __copy__ method for a class"
   ]
  },
  {
   "cell_type": "code",
   "execution_count": null,
   "metadata": {},
   "outputs": [],
   "source": []
  },
  {
   "cell_type": "markdown",
   "metadata": {},
   "source": [
    "#### A. Make a Point Class with the following rules\n",
    "        1. Has x, y, z, origin\n",
    "        2. Can be translated along the three axes\n",
    "        3. Re-setting the origin translates the point's coords\n",
    "        4. Can be multiplied, matrix-multiplied, added, and subtracted\n",
    "        5. Comparative operators between instances\n",
    "        6. Can remember states of translation. (Extra step: output json)\n",
    "        "
   ]
  },
  {
   "cell_type": "code",
   "execution_count": 181,
   "metadata": {},
   "outputs": [],
   "source": [
    "class Point():\n",
    "    \n",
    "    def __init__(self, x=0 , y=0, z=0, o=0):\n",
    "        self.o = o       \n",
    "        self.x = x \n",
    "        self.y = y\n",
    "        self.z = z\n",
    "        \n",
    "    def getReferencePoint(self, other=None):\n",
    "        new_point = Point(**self.__dict__)\n",
    "        if other is None:\n",
    "            new_point.o = 0\n",
    "        elif type(other) is numbers.Number:\n",
    "            new_point.o = other\n",
    "        elif isinstance(other, self.__class__):\n",
    "            new_point.o = other.o\n",
    "            \n",
    "        return new_point\n",
    "            \n",
    "    \n",
    "    def __setattr__(self, attr, val):\n",
    "        if attr is 'o':\n",
    "            if (hasattr(self, 'x') and \n",
    "                hasattr(self, 'y') and \n",
    "                hasattr(self, 'z')):\n",
    "                \n",
    "                diff = val - self.o\n",
    "                self.translate(x=diff, y=diff, z=diff, method='by')\n",
    "                \n",
    "        object.__setattr__(self, attr, val)  ## Avoid RecursionError\n",
    "            \n",
    "    @property\n",
    "    def coords(self):\n",
    "        return [self.x, self.y, self.z, self.o]\n",
    "        \n",
    "        \n",
    "    def translate(self, x=0, y=0, z=0, method='by'):\n",
    "        for attr in ['x', 'y', 'z']:\n",
    "            if method is 'by':\n",
    "                self.__setattr__(attr, self.__getattribute__(attr) + eval(attr))\n",
    "            else:\n",
    "                self.__setattr__(attr, self.__getattribute__(attr))\n",
    "                \n",
    "    \n",
    "    def __len__(self):\n",
    "        return sum([(self.__getattribute__(attr) - self.o)**2 for attr in ['x', 'y', 'z']])\n",
    "        \n",
    "        \n",
    "    def __repr__(self):\n",
    "        return f'Point(x={self.x}, y={self.y}, z={self.z}, o={self.o})'\n",
    "        \n",
    "    def __add__(self, other):\n",
    "        new_point = Point(**other.__dict__)\n",
    "        new_point.o = self.o\n",
    "        for attr in ['x', 'y', 'z']:\n",
    "            new_point.__setattr__(attr, self.__getattribute__(attr) + new_point.__getattribute__(attr))\n",
    "        \n",
    "        return new_point\n",
    "    \n",
    "    def __sub__(self, other):\n",
    "        new_point = Point(o=self.o)\n",
    "        for attr in ['x', 'y', 'z']:\n",
    "            new_point.__setattr__(attr, self.__getattribute__(attr) - other.__getattribute__(attr))\n",
    "        \n",
    "        return new_point \n",
    "    \n",
    "    def __mul__(self, other):\n",
    "        \n",
    "        if isinstance(other, numbers.Number):\n",
    "            new_point = Point(o=self.o)\n",
    "            for attr in ['x', 'y', 'z']:\n",
    "                new_point.__setattr__(attr, self.__getattribute__(attr)*other)\n",
    "                \n",
    "        elif type(other) is list:\n",
    "            new_point = Point(o=self.o)\n",
    "            for i, attr in enumerate(['x', 'y', 'z']):\n",
    "                new_point.__setattr__(attr, self.__getattribute__(attr)*other[i])\n",
    "                \n",
    "        elif isinstance(other, Point):\n",
    "            new_point = Point(**other.__dict__)\n",
    "            new_point.o = self.o\n",
    "            for attr in ['x', 'y', 'z']:\n",
    "                new_point.__setattr__(attr, self.__getattribute__(attr)*new_point.__getattribute__(attr))\n",
    "                                \n",
    "        return new_point"
   ]
  },
  {
   "cell_type": "markdown",
   "metadata": {},
   "source": [
    "#### 1. Has x, y, z, origin"
   ]
  },
  {
   "cell_type": "code",
   "execution_count": 182,
   "metadata": {},
   "outputs": [
    {
     "name": "stdout",
     "output_type": "stream",
     "text": [
      "x 1\n",
      "y 2\n",
      "z 3\n",
      "o 0\n"
     ]
    }
   ],
   "source": [
    "p1 = Point(1, 2, 3)\n",
    "allattr = zip(('x', 'y', 'z', 'o'), (p1.x, p1.y, p1.z, p1.o))\n",
    "\n",
    "for attr, val in allattr:\n",
    "    print(attr, val)"
   ]
  },
  {
   "cell_type": "code",
   "execution_count": 183,
   "metadata": {},
   "outputs": [
    {
     "name": "stdout",
     "output_type": "stream",
     "text": [
      "Point(x=1, y=2, z=3, o=1)\n"
     ]
    }
   ],
   "source": [
    "p1 = Point(1, 2, 3, 1)\n",
    "print(p1)"
   ]
  },
  {
   "cell_type": "markdown",
   "metadata": {},
   "source": [
    "#### 2. Can be translated along the three axes"
   ]
  },
  {
   "cell_type": "code",
   "execution_count": 184,
   "metadata": {},
   "outputs": [
    {
     "name": "stdout",
     "output_type": "stream",
     "text": [
      "Before ==> Point(x=1, y=2, z=3, o=0)\n",
      "\n",
      "Translating along x by 1\n",
      "\t Point(x=2, y=2, z=3, o=0) \n",
      "\n",
      "Translating along y by 1\n",
      "\t Point(x=1, y=3, z=3, o=0) \n",
      "\n",
      "Translating along z by 1\n",
      "\t Point(x=1, y=2, z=4, o=0) \n",
      "\n"
     ]
    }
   ],
   "source": [
    "p1 = Point(1, 2, 3)\n",
    "print('Before ==>', p1)\n",
    "\n",
    "trans_dict = {'x': 1, 'y': 1, 'z': 1}\n",
    "print()\n",
    "for trans in trans_dict.items():\n",
    "    print('Translating along', trans[0], 'by', trans[1])\n",
    "    t2d = {trans[0]: trans[1]}\n",
    "    p1.translate(**t2d, method='by')\n",
    "    print('\\t', p1, '\\n')\n",
    "    p1 = Point(1, 2, 3)"
   ]
  },
  {
   "cell_type": "markdown",
   "metadata": {},
   "source": [
    "#### 3. Resetting the origin translates the point's coords"
   ]
  },
  {
   "cell_type": "code",
   "execution_count": 185,
   "metadata": {},
   "outputs": [
    {
     "name": "stdout",
     "output_type": "stream",
     "text": [
      "Before ==> Point(x=1, y=2, z=3, o=1) \n",
      "\n",
      "Set origin from 1 to 5\n",
      "\t Point(x=5, y=6, z=7, o=5)\n"
     ]
    }
   ],
   "source": [
    "p1 = Point(1, 2, 3, 1)\n",
    "print('Before ==>', p1, '\\n')\n",
    "old_o = p1.o\n",
    "\n",
    "p1.o = 5\n",
    "print(f'Set origin from {old_o} to {p1.o}')\n",
    "print('\\t', p1)"
   ]
  },
  {
   "cell_type": "markdown",
   "metadata": {},
   "source": [
    "####  4. Can be multiplied, matrix-multiplied, added, and subtracted"
   ]
  },
  {
   "cell_type": "markdown",
   "metadata": {},
   "source": [
    "4.1 Multiply"
   ]
  },
  {
   "cell_type": "code",
   "execution_count": 186,
   "metadata": {},
   "outputs": [
    {
     "name": "stdout",
     "output_type": "stream",
     "text": [
      "p1 ==> Point(x=1, y=2, z=3, o=1)\n",
      "p2 ==> Point(x=4, y=5, z=6, o=-2)\n",
      "\n",
      "p1*p2 ==> Point(x=7, y=16, z=27, o=1)\n",
      "p2*p1 ==> Point(x=-8, y=-5, z=0, o=-2)\n"
     ]
    }
   ],
   "source": [
    "p1 = Point(1, 2, 3, 1)\n",
    "p2 = Point(4, 5, 6, -2)\n",
    "print('p1 ==>', p1)\n",
    "print('p2 ==>', p2)\n",
    "print()\n",
    "print('p1*p2 ==>', p1*p2)\n",
    "print('p2*p1 ==>', p2*p1)"
   ]
  },
  {
   "cell_type": "markdown",
   "metadata": {},
   "source": [
    "4.2 Matrix Multiply"
   ]
  },
  {
   "cell_type": "code",
   "execution_count": null,
   "metadata": {},
   "outputs": [],
   "source": []
  },
  {
   "cell_type": "markdown",
   "metadata": {},
   "source": [
    "4.3 Add"
   ]
  },
  {
   "cell_type": "code",
   "execution_count": 187,
   "metadata": {},
   "outputs": [
    {
     "name": "stdout",
     "output_type": "stream",
     "text": [
      "p1 ==> Point(x=1, y=2, z=3, o=1)\n",
      "p2 ==> Point(x=4, y=5, z=6, o=-2)\n",
      "\n",
      "p1+p2 ==> Point(x=8, y=10, z=12, o=1)\n",
      "p2+p1 ==> Point(x=2, y=4, z=6, o=-2)\n"
     ]
    }
   ],
   "source": [
    "p1 = Point(1, 2, 3, 1)\n",
    "p2 = Point(4, 5, 6, -2)\n",
    "print('p1 ==>', p1)\n",
    "print('p2 ==>', p2)\n",
    "print()\n",
    "print('p1+p2 ==>', p1+p2)\n",
    "print('p2+p1 ==>', p2+p1)"
   ]
  },
  {
   "cell_type": "markdown",
   "metadata": {},
   "source": [
    "4.4 Subtract"
   ]
  },
  {
   "cell_type": "code",
   "execution_count": null,
   "metadata": {},
   "outputs": [],
   "source": []
  }
 ],
 "metadata": {
  "kernelspec": {
   "display_name": "Python [default]",
   "language": "python",
   "name": "python3"
  },
  "language_info": {
   "codemirror_mode": {
    "name": "ipython",
    "version": 3
   },
   "file_extension": ".py",
   "mimetype": "text/x-python",
   "name": "python",
   "nbconvert_exporter": "python",
   "pygments_lexer": "ipython3",
   "version": "3.6.6"
  },
  "varInspector": {
   "cols": {
    "lenName": 16,
    "lenType": 16,
    "lenVar": 40
   },
   "kernels_config": {
    "python": {
     "delete_cmd_postfix": "",
     "delete_cmd_prefix": "del ",
     "library": "var_list.py",
     "varRefreshCmd": "print(var_dic_list())"
    },
    "r": {
     "delete_cmd_postfix": ") ",
     "delete_cmd_prefix": "rm(",
     "library": "var_list.r",
     "varRefreshCmd": "cat(var_dic_list()) "
    }
   },
   "types_to_exclude": [
    "module",
    "function",
    "builtin_function_or_method",
    "instance",
    "_Feature"
   ],
   "window_display": false
  }
 },
 "nbformat": 4,
 "nbformat_minor": 2
}
