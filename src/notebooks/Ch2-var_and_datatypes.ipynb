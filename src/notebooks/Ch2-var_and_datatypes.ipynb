{
 "cells": [
  {
   "cell_type": "markdown",
   "metadata": {},
   "source": [
    "# Defining  a string"
   ]
  },
  {
   "cell_type": "code",
   "execution_count": 22,
   "metadata": {},
   "outputs": [
    {
     "name": "stdout",
     "output_type": "stream",
     "text": [
      "String message is This is a string\n",
      "The length of string message is 16\n"
     ]
    }
   ],
   "source": [
    "message = \"This is a string\"\n",
    "print(f\"String message is {message}\")\n",
    "print(f\"The length of string message is {len(message)}\")"
   ]
  },
  {
   "cell_type": "markdown",
   "metadata": {},
   "source": [
    "# Concatenating a string"
   ]
  },
  {
   "cell_type": "code",
   "execution_count": 91,
   "metadata": {},
   "outputs": [
    {
     "name": "stdout",
     "output_type": "stream",
     "text": [
      "String1String2\n",
      "String1 String2\n",
      "String1--String2\n",
      "String1 String2\n",
      "\n",
      "Checking\n",
      "String1\n",
      "String2\n",
      "\t String1 String2\n",
      "\n",
      "Languages:\n",
      "\tPython\n",
      "\tJavascript\n",
      "\tR\n"
     ]
    }
   ],
   "source": [
    "string1 = 'String1'\n",
    "string2 = 'String2'\n",
    "\n",
    "# Printing with no space\n",
    "print(string1+string2)\n",
    "\n",
    "# Printing with space\n",
    "print(string1, string2)\n",
    "\n",
    "# Printing with a separator\n",
    "print(string1, string2, sep='--')\n",
    "\n",
    "# Printing with a newline added space\n",
    "print(string1, string2, end='\\n'*2)\n",
    "\n",
    "# Checking if a new line was added\n",
    "print('Checking')\n",
    "\n",
    "# Printing with a sep equal to '/n'\n",
    "print(string1, string2, sep='\\n')\n",
    "\n",
    "# Printing with tab whitespace\n",
    "print('\\t', string1, string2, end='\\n'*2)\n",
    "\n",
    "# Pretty example\n",
    "print('Languages:\\n\\tPython\\n\\tJavascript\\n\\tR')"
   ]
  },
  {
   "cell_type": "markdown",
   "metadata": {},
   "source": [
    "# Changing the default print parameters for easy printing of mutiple lines\n"
   ]
  },
  {
   "cell_type": "code",
   "execution_count": 56,
   "metadata": {},
   "outputs": [],
   "source": [
    "from functools import partial\n",
    "myprint = partial(print, end='\\n'*2, sep='\\n')"
   ]
  },
  {
   "cell_type": "code",
   "execution_count": 59,
   "metadata": {},
   "outputs": [
    {
     "name": "stdout",
     "output_type": "stream",
     "text": [
      "Run 1 sentence 1\n",
      "Run 2 sentence 2\n"
     ]
    }
   ],
   "source": [
    "print('Run 1', 'sentence 1')\n",
    "print('Run 2', 'sentence 2')"
   ]
  },
  {
   "cell_type": "code",
   "execution_count": 58,
   "metadata": {},
   "outputs": [
    {
     "name": "stdout",
     "output_type": "stream",
     "text": [
      "Run 1\n",
      "sentence 1\n",
      "\n",
      "Run 2\n",
      "sentence 2\n",
      "\n"
     ]
    }
   ],
   "source": [
    "myprint('Run 1', 'sentence 1')\n",
    "myprint('Run 2', 'sentence 2')"
   ]
  },
  {
   "cell_type": "markdown",
   "metadata": {},
   "source": [
    "# Tidy dict for demonstrating commands with comments\n"
   ]
  },
  {
   "cell_type": "code",
   "execution_count": null,
   "metadata": {},
   "outputs": [],
   "source": []
  },
  {
   "cell_type": "markdown",
   "metadata": {},
   "source": [
    "# Reversing a string\n"
   ]
  },
  {
   "cell_type": "code",
   "execution_count": 26,
   "metadata": {},
   "outputs": [
    {
     "name": "stdout",
     "output_type": "stream",
     "text": [
      "dcba\n"
     ]
    }
   ],
   "source": [
    "mystring = 'abcd'\n",
    "print(mystring[::-1])"
   ]
  },
  {
   "cell_type": "markdown",
   "metadata": {},
   "source": [
    "# Printing every alternate word\n"
   ]
  },
  {
   "cell_type": "code",
   "execution_count": 13,
   "metadata": {},
   "outputs": [
    {
     "name": "stdout",
     "output_type": "stream",
     "text": [
      "This a\n",
      "is string\n"
     ]
    }
   ],
   "source": [
    "print(' '.join(message.split(' ')[::2]))\n",
    "print(' '.join(message.split(' ')[1::2]))\n"
   ]
  },
  {
   "cell_type": "markdown",
   "metadata": {},
   "source": [
    "# Printing a sentence in reverse order\n"
   ]
  },
  {
   "cell_type": "code",
   "execution_count": 31,
   "metadata": {},
   "outputs": [
    {
     "data": {
      "text/plain": [
       "'Word4 Word3 Word2 Word1'"
      ]
     },
     "execution_count": 31,
     "metadata": {},
     "output_type": "execute_result"
    }
   ],
   "source": [
    "sentence = 'Word1 Word2 Word3 Word4'\n",
    "' '.join(sentence.split(' ')[::-1])"
   ]
  },
  {
   "cell_type": "markdown",
   "metadata": {},
   "source": [
    "# Strings are an instance of the class str"
   ]
  },
  {
   "cell_type": "code",
   "execution_count": 18,
   "metadata": {},
   "outputs": [
    {
     "data": {
      "text/plain": [
       "True"
      ]
     },
     "execution_count": 18,
     "metadata": {},
     "output_type": "execute_result"
    }
   ],
   "source": [
    "isinstance('string', str)"
   ]
  },
  {
   "cell_type": "markdown",
   "metadata": {},
   "source": [
    "# Various (useful) methods on the string"
   ]
  },
  {
   "cell_type": "code",
   "execution_count": 145,
   "metadata": {},
   "outputs": [
    {
     "name": "stdout",
     "output_type": "stream",
     "text": [
      "string1 is aBCdEf\n",
      "lower abcdef\n",
      "upper ABCDEF\n",
      "title Abcdef\n",
      "capitalize Abcdef\n",
      "casefold abcdef\n",
      "\n",
      "aBCdEf startswith  A? False\n",
      "aBCdEf startswith  a? True\n",
      "aBCdEf endswith  F? False\n",
      "aBCdEf endswith  f? True\n"
     ]
    }
   ],
   "source": [
    "string1 = 'aBCdEf'\n",
    "print('string1 is', string1)\n",
    "print('lower', string1.lower())\n",
    "print('upper', string1.upper())\n",
    "print('title', string1.title())\n",
    "print('capitalize', string1.capitalize())\n",
    "print('casefold', string1.casefold(), end='\\n'*2)\n",
    "print(f'{string1} startswith  A?', string1.startswith('A'))\n",
    "print(f'{string1} startswith  a?', string1.startswith('a'))\n",
    "print(f'{string1} endswith  F?', string1.endswith('F'))\n",
    "print(f'{string1} endswith  f?', string1.endswith('f'))"
   ]
  },
  {
   "cell_type": "markdown",
   "metadata": {},
   "source": [
    "# strip() only removes leading and trailing white space"
   ]
  },
  {
   "cell_type": "code",
   "execution_count": 98,
   "metadata": {},
   "outputs": [
    {
     "name": "stdout",
     "output_type": "stream",
     "text": [
      "Number of characters in str_wspace is 19\n",
      "Number of characters in str_strip is 16\n",
      "Number of characters in str_lstrip is 18\n",
      "Number of characters in str_rstrip is 17\n"
     ]
    }
   ],
   "source": [
    "str_wspace = ' This is a string  '\n",
    "print(f'Number of characters in str_wspace is {len(str_wspace)}')\n",
    "str_strip = str_wspace.strip()\n",
    "print(f'Number of characters in str_strip is {len(str_strip)}')\n",
    "str_lstrip = str_wspace.lstrip()\n",
    "print(f'Number of characters in str_lstrip is {len(str_lstrip)}')\n",
    "str_rstrip = str_wspace.rstrip()\n",
    "print(f'Number of characters in str_rstrip is {len(str_rstrip)}')\n"
   ]
  },
  {
   "cell_type": "markdown",
   "metadata": {},
   "source": [
    "# Remove all wspace in a string"
   ]
  },
  {
   "cell_type": "code",
   "execution_count": 103,
   "metadata": {},
   "outputs": [
    {
     "name": "stdout",
     "output_type": "stream",
     "text": [
      " This is a string  \n",
      "Thisisastring\n",
      "Thisisastring\n"
     ]
    }
   ],
   "source": [
    "print(str_wspace)\n",
    "\n",
    "str_nospace = str_wspace.replace(' ', '')\n",
    "print(str_nospace)\n",
    "\n",
    "str_nospace = ''.join(str_wspace.split(' '))\n",
    "print(str_nospace)"
   ]
  },
  {
   "cell_type": "code",
   "execution_count": 84,
   "metadata": {},
   "outputs": [
    {
     "name": "stdout",
     "output_type": "stream",
     "text": [
      "string1 is AbCdEf\n",
      "lower abcdef\n",
      "capitalize Abcdef\n",
      "casefold abcdef\n",
      "\n",
      "string2 is abcdef\n",
      "string1 does not match string2\n",
      "Characters in string1 match string2 and are in the same order\n"
     ]
    }
   ],
   "source": [
    "string2 = 'abcdef'\n",
    "print('string2 is', string2)\n",
    "\n",
    "if string1 == string2:\n",
    "    print('string1 matches string2')\n",
    "else:\n",
    "    print('string1 does not match string2')\n",
    "    \n",
    "if string1.casefold() == string2.casefold():\n",
    "    print('Characters in string1 match string2 and are in the same order')\n",
    "else:\n",
    "    print('Characters in string1 do not match string2 and are in the same order')"
   ]
  },
  {
   "cell_type": "markdown",
   "metadata": {},
   "source": [
    "# Comparing strings"
   ]
  },
  {
   "cell_type": "code",
   "execution_count": 111,
   "metadata": {},
   "outputs": [],
   "source": [
    "string1 = 'the same string'\n",
    "string2 = 'the same string'"
   ]
  },
  {
   "cell_type": "code",
   "execution_count": 109,
   "metadata": {},
   "outputs": [
    {
     "name": "stdout",
     "output_type": "stream",
     "text": [
      "string1 is string2 False\n",
      "string1 == string2 True\n"
     ]
    }
   ],
   "source": [
    "print('string1 is string2', string1 is string2)\n",
    "print('string1 == string2', string1 == string2)"
   ]
  },
  {
   "cell_type": "markdown",
   "metadata": {},
   "source": [
    "# The result is different with numbers"
   ]
  },
  {
   "cell_type": "code",
   "execution_count": 110,
   "metadata": {},
   "outputs": [],
   "source": [
    "num1 = 5\n",
    "num2 = 5"
   ]
  },
  {
   "cell_type": "code",
   "execution_count": 112,
   "metadata": {},
   "outputs": [
    {
     "name": "stdout",
     "output_type": "stream",
     "text": [
      "num1 is num2 True\n",
      "num1 == num2 True\n"
     ]
    }
   ],
   "source": [
    "print('num1 is num2', num1 is num2)\n",
    "print('num1 == num2', num1 == num2)"
   ]
  },
  {
   "cell_type": "markdown",
   "metadata": {},
   "source": [
    "# Using escape characters in string"
   ]
  },
  {
   "cell_type": "code",
   "execution_count": 113,
   "metadata": {},
   "outputs": [
    {
     "ename": "SyntaxError",
     "evalue": "invalid syntax (<ipython-input-113-e04ebf207872>, line 1)",
     "output_type": "error",
     "traceback": [
      "\u001b[0;36m  File \u001b[0;32m\"<ipython-input-113-e04ebf207872>\"\u001b[0;36m, line \u001b[0;32m1\u001b[0m\n\u001b[0;31m    message = 'The do's and don'ts in python'\u001b[0m\n\u001b[0m                      ^\u001b[0m\n\u001b[0;31mSyntaxError\u001b[0m\u001b[0;31m:\u001b[0m invalid syntax\n"
     ]
    }
   ],
   "source": [
    "message = 'The do's and don'ts in python'"
   ]
  },
  {
   "cell_type": "code",
   "execution_count": 115,
   "metadata": {},
   "outputs": [
    {
     "name": "stdout",
     "output_type": "stream",
     "text": [
      "The do's and dont's in python\n"
     ]
    }
   ],
   "source": [
    "message = \"The do's and dont's in python\"\n",
    "print(message)"
   ]
  },
  {
   "cell_type": "code",
   "execution_count": 117,
   "metadata": {},
   "outputs": [
    {
     "name": "stdout",
     "output_type": "stream",
     "text": [
      "The do's and dont's in python\n"
     ]
    }
   ],
   "source": [
    "message = 'The do\\'s and dont\\'s in python'\n",
    "print(message)"
   ]
  },
  {
   "cell_type": "code",
   "execution_count": 118,
   "metadata": {},
   "outputs": [
    {
     "name": "stdout",
     "output_type": "stream",
     "text": [
      "\t is a tab character in python and \n",
      " is a newline\n"
     ]
    }
   ],
   "source": [
    "message = '\\t is a tab character in python and \\n is a newline'\n",
    "print(message)"
   ]
  },
  {
   "cell_type": "code",
   "execution_count": 120,
   "metadata": {},
   "outputs": [
    {
     "name": "stdout",
     "output_type": "stream",
     "text": [
      "\\t is a tab character in python and \\n is a newline\n"
     ]
    }
   ],
   "source": [
    "message = '\\\\t is a tab character in python and \\\\n is a newline'\n",
    "print(message)"
   ]
  },
  {
   "cell_type": "code",
   "execution_count": 137,
   "metadata": {},
   "outputs": [
    {
     "name": "stdout",
     "output_type": "stream",
     "text": [
      "This is the 1st sentence, This is the 2nd sentence, This is the 3rd sentence.\n"
     ]
    }
   ],
   "source": [
    "really_long_string = 'This is the 1st sentence, ' \\\n",
    "                     'This is the 2nd sentence, ' \\\n",
    "                     'This is the 3rd sentence.'\n",
    "print(really_long_string)"
   ]
  },
  {
   "cell_type": "code",
   "execution_count": 138,
   "metadata": {},
   "outputs": [
    {
     "name": "stdout",
     "output_type": "stream",
     "text": [
      "This is the 1st sentence,\n",
      "This is the 2nd sentence,\n",
      "This is the 3rd sentence.\n"
     ]
    }
   ],
   "source": [
    "really_long_string = 'This is the 1st sentence,\\n' \\\n",
    "                     'This is the 2nd sentence,\\n' \\\n",
    "                     'This is the 3rd sentence.'\n",
    "print(really_long_string)"
   ]
  },
  {
   "cell_type": "markdown",
   "metadata": {},
   "source": [
    "# Defining a number\n"
   ]
  },
  {
   "cell_type": "code",
   "execution_count": 163,
   "metadata": {},
   "outputs": [
    {
     "name": "stdout",
     "output_type": "stream",
     "text": [
      "num1+num2 17\n",
      "num1*num2 60\n",
      "num1-num2 -7\n",
      "num1/num2 0.4166666666666667\n",
      "num1//num2 0\n",
      "num1**num2 244140625\n",
      "num2%num1 2\n"
     ]
    }
   ],
   "source": [
    "num1 = 5\n",
    "num2 = 12\n",
    "print('num1+num2', num1+num2)\n",
    "print('num1*num2', num1*num2)\n",
    "print('num1-num2', num1-num2)\n",
    "print('num1/num2', num1/num2)\n",
    "print('num1//num2', num1//num2)\n",
    "print('num1**num2', num1**num2)\n",
    "print('num2%num1', num2%num1)"
   ]
  },
  {
   "cell_type": "code",
   "execution_count": 154,
   "metadata": {},
   "outputs": [
    {
     "name": "stdout",
     "output_type": "stream",
     "text": [
      "1.0599999999999998\n"
     ]
    }
   ],
   "source": [
    "num3 = 15\n",
    "result = (num1+num2)/num3\n",
    "print(result)"
   ]
  },
  {
   "cell_type": "markdown",
   "metadata": {},
   "source": [
    "# Find the n's place digit of a number"
   ]
  },
  {
   "cell_type": "code",
   "execution_count": 191,
   "metadata": {},
   "outputs": [
    {
     "name": "stdout",
     "output_type": "stream",
     "text": [
      "one's place is 5\n",
      "one's place is 5\n"
     ]
    }
   ],
   "source": [
    "num = 12345\n",
    "num_str = str(int(num))\n",
    "print(f'one\\'s place is {num_str[-1]}')\n",
    "\n",
    "num = 12345.678\n",
    "num_str = str(int(num))\n",
    "print(f'one\\'s place is {num_str[-1]}')\n",
    "\n"
   ]
  },
  {
   "cell_type": "code",
   "execution_count": 235,
   "metadata": {},
   "outputs": [],
   "source": [
    "from math import log10\n",
    "\n",
    "def nthplace(num, nth):\n",
    "    \n",
    "    index = int(log10(nth))\n",
    "    num_str = str(int(num))\n",
    "    \n",
    "    return int(num_str[-(index+1)])\n",
    "\n",
    "              \n",
    "    "
   ]
  },
  {
   "cell_type": "code",
   "execution_count": 224,
   "metadata": {},
   "outputs": [
    {
     "name": "stdout",
     "output_type": "stream",
     "text": [
      "one's place in 12345.678 is 5\n",
      "ten's place in 12345.678 is 4\n",
      "hundred's place in 12345.678 is 3\n",
      "thousand's place in 12345.678 is 2\n"
     ]
    }
   ],
   "source": [
    "tidy_dict = {'one': 1,\n",
    "             'ten': 10,\n",
    "             'hundred': 100,\n",
    "             'thousand': 1000}\n",
    "\n",
    "for place_str, place in tidy_dict.items():\n",
    "    print(f'{place_str}\\'s place in {num} is {nthplace(num, place)}')\n",
    "    \n",
    "    "
   ]
  },
  {
   "cell_type": "code",
   "execution_count": 223,
   "metadata": {},
   "outputs": [
    {
     "data": {
      "text/plain": [
       "'4'"
      ]
     },
     "execution_count": 223,
     "metadata": {},
     "output_type": "execute_result"
    }
   ],
   "source": [
    "f'{nthplace(num, 10)}'"
   ]
  },
  {
   "cell_type": "code",
   "execution_count": 196,
   "metadata": {},
   "outputs": [
    {
     "name": "stdout",
     "output_type": "stream",
     "text": [
      "Thousand's place of 12345.678 is 5\n"
     ]
    }
   ],
   "source": [
    "num = 12345.678\n",
    "print(f'Thousand\\'s place of {num} is {nthplace(num, 1000)}')\n",
    "    "
   ]
  },
  {
   "cell_type": "markdown",
   "metadata": {},
   "source": [
    "# Of numbers and string"
   ]
  },
  {
   "cell_type": "code",
   "execution_count": 158,
   "metadata": {},
   "outputs": [
    {
     "ename": "TypeError",
     "evalue": "must be str, not int",
     "output_type": "error",
     "traceback": [
      "\u001b[0;31m---------------------------------------------------------------------------\u001b[0m",
      "\u001b[0;31mTypeError\u001b[0m                                 Traceback (most recent call last)",
      "\u001b[0;32m<ipython-input-158-b3951baf3061>\u001b[0m in \u001b[0;36m<module>\u001b[0;34m()\u001b[0m\n\u001b[1;32m      1\u001b[0m \u001b[0mage\u001b[0m \u001b[0;34m=\u001b[0m \u001b[0;36m25\u001b[0m\u001b[0;34m\u001b[0m\u001b[0m\n\u001b[1;32m      2\u001b[0m \u001b[0mname\u001b[0m \u001b[0;34m=\u001b[0m \u001b[0;34m'Abhishek'\u001b[0m\u001b[0;34m\u001b[0m\u001b[0m\n\u001b[0;32m----> 3\u001b[0;31m \u001b[0mmessage\u001b[0m \u001b[0;34m=\u001b[0m \u001b[0;34m'Happy '\u001b[0m\u001b[0;34m+\u001b[0m \u001b[0mage\u001b[0m \u001b[0;34m+\u001b[0m \u001b[0;34m'th birthday '\u001b[0m\u001b[0;34m+\u001b[0m \u001b[0mname\u001b[0m\u001b[0;34m\u001b[0m\u001b[0m\n\u001b[0m",
      "\u001b[0;31mTypeError\u001b[0m: must be str, not int"
     ]
    }
   ],
   "source": [
    "age = 25\n",
    "name = 'Abhishek'\n",
    "message = 'Happy '+ age + 'th birthday '+ name + \"!\""
   ]
  },
  {
   "cell_type": "code",
   "execution_count": 160,
   "metadata": {},
   "outputs": [
    {
     "name": "stdout",
     "output_type": "stream",
     "text": [
      "Happy 25th birthday Abhishek!\n"
     ]
    }
   ],
   "source": [
    "age = 25\n",
    "message = f\"Happy {age}th birthday {name}!\"\n",
    "print(message)"
   ]
  },
  {
   "cell_type": "code",
   "execution_count": 162,
   "metadata": {},
   "outputs": [
    {
     "name": "stdout",
     "output_type": "stream",
     "text": [
      "Happy 25th birthday Abhishek!\n"
     ]
    }
   ],
   "source": [
    "age = 25\n",
    "name = 'Abhishek'\n",
    "message = \"Happy {0}th birthday {1}!\".format(age, name)\n",
    "print(message)"
   ]
  },
  {
   "cell_type": "markdown",
   "metadata": {},
   "source": [
    "# Tidy dict for ending digit suffix"
   ]
  },
  {
   "cell_type": "code",
   "execution_count": 227,
   "metadata": {},
   "outputs": [],
   "source": [
    "def digit_suffix(n):\n",
    "    \n",
    "    tidy_dict = {1: 'st',\n",
    "                 2: 'nd',\n",
    "                 3: 'rd',\n",
    "                }\n",
    "    for end_digit in range(4, 11):\n",
    "        tidy_dict[end_digit] = 'th'\n",
    "    \n",
    "    return tidy_dict[n]\n",
    "    \n"
   ]
  },
  {
   "cell_type": "markdown",
   "metadata": {},
   "source": [
    "# Tidy dict for converting digit to word"
   ]
  },
  {
   "cell_type": "code",
   "execution_count": 247,
   "metadata": {},
   "outputs": [],
   "source": [
    "tidy_dict = {0: 'zero',\n",
    "             1: 'one',\n",
    "             2: 'two',\n",
    "             3: 'three',\n",
    "             4: 'four',\n",
    "             5: 'five',\n",
    "             6: 'six',\n",
    "             7: 'seven',\n",
    "             8: 'eight',\n",
    "             9: 'nine',\n",
    "             10: 'ten',\n",
    "             11: 'eleven',\n",
    "             12: 'twelve',\n",
    "             13: 'thirteen',\n",
    "             14: 'fourteen',\n",
    "             15: 'fifteen',\n",
    "             16: 'sixteen',\n",
    "             17: 'seven',\n",
    "             18: 'eighteen',\n",
    "             19: 'nineteen',\n",
    "             20: 'twenty',\n",
    "             30: 'thirty',\n",
    "             40: 'fourty',\n",
    "             50: 'fifty',\n",
    "             60: 'sixty',\n",
    "             70: 'seventy',\n",
    "             80: 'eighty',\n",
    "             90: 'ninety',\n",
    "             100: 'hundred'}\n"
   ]
  },
  {
   "cell_type": "code",
   "execution_count": 254,
   "metadata": {},
   "outputs": [
    {
     "name": "stdout",
     "output_type": "stream",
     "text": [
      "zero\n",
      "one\n",
      "two\n",
      "three\n",
      "four\n",
      "five\n",
      "six\n",
      "seven\n",
      "eight\n",
      "nine\n",
      "ten\n",
      "eleven\n",
      "twelve\n",
      "thirteen\n",
      "fourteen\n",
      "fifteen\n",
      "sixteen\n",
      "seven\n",
      "eighteen\n",
      "nineteen\n",
      "twenty\n",
      "twenty one\n",
      "twenty two\n",
      "twenty three\n",
      "twenty four\n",
      "twenty five\n",
      "twenty six\n",
      "twenty seven\n",
      "twenty eight\n",
      "twenty nine\n",
      "thirty\n",
      "thirty one\n",
      "thirty two\n",
      "thirty three\n",
      "thirty four\n",
      "thirty five\n",
      "thirty six\n",
      "thirty seven\n",
      "thirty eight\n",
      "thirty nine\n",
      "fourty\n",
      "fourty one\n",
      "fourty two\n",
      "fourty three\n",
      "fourty four\n",
      "fourty five\n",
      "fourty six\n",
      "fourty seven\n",
      "fourty eight\n",
      "fourty nine\n",
      "fifty\n",
      "fifty one\n",
      "fifty two\n",
      "fifty three\n",
      "fifty four\n",
      "fifty five\n",
      "fifty six\n",
      "fifty seven\n",
      "fifty eight\n",
      "fifty nine\n",
      "sixty\n",
      "sixty one\n",
      "sixty two\n",
      "sixty three\n",
      "sixty four\n",
      "sixty five\n",
      "sixty six\n",
      "sixty seven\n",
      "sixty eight\n",
      "sixty nine\n",
      "seventy\n",
      "seventy one\n",
      "seventy two\n",
      "seventy three\n",
      "seventy four\n",
      "seventy five\n",
      "seventy six\n",
      "seventy seven\n",
      "seventy eight\n",
      "seventy nine\n",
      "eighty\n",
      "eighty one\n",
      "eighty two\n",
      "eighty three\n",
      "eighty four\n",
      "eighty five\n",
      "eighty six\n",
      "eighty seven\n",
      "eighty eight\n",
      "eighty nine\n",
      "ninety\n",
      "ninety one\n",
      "ninety two\n",
      "ninety three\n",
      "ninety four\n",
      "ninety five\n",
      "ninety six\n",
      "ninety seven\n",
      "ninety eight\n",
      "ninety nine\n",
      "hundred\n"
     ]
    }
   ],
   "source": [
    "\n",
    "for num in range(0, 101):\n",
    "    \n",
    "    if num in tidy_dict.keys():\n",
    "        print(tidy_dict[num])\n",
    "    \n",
    "    elif 20 < num < 100 and num not in range(30, 100, 10):\n",
    "        \n",
    "        key_10 = tidy_dict[nthplace(num, 10)*10]\n",
    "        key_1 = tidy_dict[nthplace(num, 1)]\n",
    "        output = f\"{key_10} {key_1}\"\n",
    "        print(output)\n",
    "    \n",
    "    elif 100 >= num > 1000:\n",
    "        if num%100 == 0:\n",
    "            pass\n",
    "        else:\n",
    "            pass\n",
    "  \n"
   ]
  },
  {
   "cell_type": "code",
   "execution_count": 252,
   "metadata": {},
   "outputs": [
    {
     "data": {
      "text/plain": [
       "55"
      ]
     },
     "execution_count": 252,
     "metadata": {},
     "output_type": "execute_result"
    }
   ],
   "source": []
  },
  {
   "cell_type": "code",
   "execution_count": null,
   "metadata": {},
   "outputs": [],
   "source": []
  },
  {
   "cell_type": "markdown",
   "metadata": {},
   "source": [
    "# Given a number attach a suffix for the end digit"
   ]
  },
  {
   "cell_type": "code",
   "execution_count": 229,
   "metadata": {},
   "outputs": [
    {
     "name": "stdout",
     "output_type": "stream",
     "text": [
      "12345th\n"
     ]
    }
   ],
   "source": [
    "num = 12345\n",
    "n = nthplace(num, 1)\n",
    "print(f'{num}{digit_suffix(n)}')"
   ]
  },
  {
   "cell_type": "markdown",
   "metadata": {},
   "source": [
    "# Convert a number into a word"
   ]
  },
  {
   "cell_type": "code",
   "execution_count": 240,
   "metadata": {},
   "outputs": [
    {
     "name": "stdout",
     "output_type": "stream",
     "text": [
      "5\n",
      "4\n",
      "3\n",
      "2\n",
      "1\n"
     ]
    }
   ],
   "source": [
    "i = 0\n",
    "while i>=0:\n",
    "    pos = 10**i\n",
    "    try:\n",
    "        print(nthplace(num, pos))\n",
    "        i+=1\n",
    "    except IndexError:\n",
    "        break\n",
    "        "
   ]
  },
  {
   "cell_type": "markdown",
   "metadata": {},
   "source": [
    "# Difference between python2 and python3 integers"
   ]
  },
  {
   "cell_type": "code",
   "execution_count": 348,
   "metadata": {},
   "outputs": [],
   "source": [
    "import tempfile\n",
    "\n",
    "text = 'from __future__ import print_function\\n'\\\n",
    "       'num1 = 9\\n'\\\n",
    "       'num2 = 5\\n'\\\n",
    "       'print(\"num2/num1 is\", num2/num1)\\n'\\\n",
    "       'print(\"num2//num1 is\", num2//num1)\\n'\\\n",
    "\n",
    "tmp = tempfile.NamedTemporaryFile()\n",
    "\n",
    "with open(tmp.name, 'w') as f:\n",
    "    f.write(text)\n"
   ]
  },
  {
   "cell_type": "code",
   "execution_count": 349,
   "metadata": {},
   "outputs": [
    {
     "name": "stdout",
     "output_type": "stream",
     "text": [
      "from __future__ import print_function\r\n",
      "num1 = 9\r\n",
      "num2 = 5\r\n",
      "print(\"num2/num1 is\", num2/num1)\r\n",
      "print(\"num2//num1 is\", num2//num1)\r\n"
     ]
    }
   ],
   "source": [
    "!cat {tmp.name}"
   ]
  },
  {
   "cell_type": "code",
   "execution_count": 350,
   "metadata": {},
   "outputs": [
    {
     "name": "stdout",
     "output_type": "stream",
     "text": [
      "num2/num1 is 0\r\n",
      "num2//num1 is 0\r\n"
     ]
    }
   ],
   "source": [
    "!python2 {tmp.name}"
   ]
  },
  {
   "cell_type": "code",
   "execution_count": 351,
   "metadata": {},
   "outputs": [
    {
     "name": "stdout",
     "output_type": "stream",
     "text": [
      "num2/num1 is 0.5555555555555556\r\n",
      "num2//num1 is 0\r\n"
     ]
    }
   ],
   "source": [
    "!python3 {tmp.name}"
   ]
  },
  {
   "cell_type": "markdown",
   "metadata": {},
   "source": [
    "# The Zen of python"
   ]
  },
  {
   "cell_type": "code",
   "execution_count": 352,
   "metadata": {},
   "outputs": [
    {
     "name": "stdout",
     "output_type": "stream",
     "text": [
      "The Zen of Python, by Tim Peters\n",
      "\n",
      "Beautiful is better than ugly.\n",
      "Explicit is better than implicit.\n",
      "Simple is better than complex.\n",
      "Complex is better than complicated.\n",
      "Flat is better than nested.\n",
      "Sparse is better than dense.\n",
      "Readability counts.\n",
      "Special cases aren't special enough to break the rules.\n",
      "Although practicality beats purity.\n",
      "Errors should never pass silently.\n",
      "Unless explicitly silenced.\n",
      "In the face of ambiguity, refuse the temptation to guess.\n",
      "There should be one-- and preferably only one --obvious way to do it.\n",
      "Although that way may not be obvious at first unless you're Dutch.\n",
      "Now is better than never.\n",
      "Although never is often better than *right* now.\n",
      "If the implementation is hard to explain, it's a bad idea.\n",
      "If the implementation is easy to explain, it may be a good idea.\n",
      "Namespaces are one honking great idea -- let's do more of those!\n"
     ]
    }
   ],
   "source": [
    "import this"
   ]
  },
  {
   "cell_type": "code",
   "execution_count": null,
   "metadata": {},
   "outputs": [],
   "source": []
  }
 ],
 "metadata": {
  "kernelspec": {
   "display_name": "Python [conda env:miniconda3]",
   "language": "python",
   "name": "conda-env-miniconda3-py"
  },
  "language_info": {
   "codemirror_mode": {
    "name": "ipython",
    "version": 3
   },
   "file_extension": ".py",
   "mimetype": "text/x-python",
   "name": "python",
   "nbconvert_exporter": "python",
   "pygments_lexer": "ipython3",
   "version": "3.6.6"
  },
  "toc": {
   "base_numbering": 1,
   "nav_menu": {},
   "number_sections": true,
   "sideBar": true,
   "skip_h1_title": false,
   "title_cell": "Table of Contents",
   "title_sidebar": "Contents",
   "toc_cell": false,
   "toc_position": {},
   "toc_section_display": true,
   "toc_window_display": false
  },
  "varInspector": {
   "cols": {
    "lenName": 16,
    "lenType": 16,
    "lenVar": 40
   },
   "kernels_config": {
    "python": {
     "delete_cmd_postfix": "",
     "delete_cmd_prefix": "del ",
     "library": "var_list.py",
     "varRefreshCmd": "print(var_dic_list())"
    },
    "r": {
     "delete_cmd_postfix": ") ",
     "delete_cmd_prefix": "rm(",
     "library": "var_list.r",
     "varRefreshCmd": "cat(var_dic_list()) "
    }
   },
   "types_to_exclude": [
    "module",
    "function",
    "builtin_function_or_method",
    "instance",
    "_Feature"
   ],
   "window_display": false
  }
 },
 "nbformat": 4,
 "nbformat_minor": 2
}
